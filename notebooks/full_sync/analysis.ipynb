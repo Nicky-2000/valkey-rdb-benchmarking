{
 "cells": [
  {
   "cell_type": "code",
   "execution_count": 18,
   "id": "b3aecb58",
   "metadata": {},
   "outputs": [],
   "source": [
    "import pandas as pd"
   ]
  },
  {
   "cell_type": "code",
   "execution_count": 19,
   "id": "c58ace77",
   "metadata": {},
   "outputs": [],
   "source": [
    "df = pd.read_csv(\"full_sync_summary_0.1keys_100B.csv\")"
   ]
  },
  {
   "cell_type": "code",
   "execution_count": 20,
   "id": "a06bbfd3",
   "metadata": {},
   "outputs": [
    {
     "data": {
      "text/html": [
       "<div>\n",
       "<style scoped>\n",
       "    .dataframe tbody tr th:only-of-type {\n",
       "        vertical-align: middle;\n",
       "    }\n",
       "\n",
       "    .dataframe tbody tr th {\n",
       "        vertical-align: top;\n",
       "    }\n",
       "\n",
       "    .dataframe thead th {\n",
       "        text-align: right;\n",
       "    }\n",
       "</style>\n",
       "<table border=\"1\" class=\"dataframe\">\n",
       "  <thead>\n",
       "    <tr style=\"text-align: right;\">\n",
       "      <th></th>\n",
       "      <th>test_type</th>\n",
       "      <th>rdb_threads</th>\n",
       "      <th>num_keys_millions</th>\n",
       "      <th>value_size_bytes</th>\n",
       "      <th>primary_port</th>\n",
       "      <th>replica_port</th>\n",
       "      <th>status</th>\n",
       "      <th>sync_duration_seconds</th>\n",
       "      <th>primary_cpu_time_seconds</th>\n",
       "      <th>primary_io_write_mb_s</th>\n",
       "      <th>replica_cpu_time_seconds</th>\n",
       "      <th>replica_io_read_mb_s</th>\n",
       "    </tr>\n",
       "  </thead>\n",
       "  <tbody>\n",
       "    <tr>\n",
       "      <th>0</th>\n",
       "      <td>full_sync</td>\n",
       "      <td>1</td>\n",
       "      <td>0.1</td>\n",
       "      <td>100</td>\n",
       "      <td>7000</td>\n",
       "      <td>7001</td>\n",
       "      <td>ok</td>\n",
       "      <td>23.641480</td>\n",
       "      <td>2.61</td>\n",
       "      <td>0.000347</td>\n",
       "      <td>12.71</td>\n",
       "      <td>0.0</td>\n",
       "    </tr>\n",
       "    <tr>\n",
       "      <th>1</th>\n",
       "      <td>full_sync</td>\n",
       "      <td>2</td>\n",
       "      <td>0.1</td>\n",
       "      <td>100</td>\n",
       "      <td>7000</td>\n",
       "      <td>7001</td>\n",
       "      <td>ok</td>\n",
       "      <td>19.633916</td>\n",
       "      <td>1.64</td>\n",
       "      <td>0.000209</td>\n",
       "      <td>11.55</td>\n",
       "      <td>0.0</td>\n",
       "    </tr>\n",
       "    <tr>\n",
       "      <th>2</th>\n",
       "      <td>full_sync</td>\n",
       "      <td>3</td>\n",
       "      <td>0.1</td>\n",
       "      <td>100</td>\n",
       "      <td>7000</td>\n",
       "      <td>7001</td>\n",
       "      <td>ok</td>\n",
       "      <td>18.632451</td>\n",
       "      <td>1.57</td>\n",
       "      <td>0.000220</td>\n",
       "      <td>11.45</td>\n",
       "      <td>0.0</td>\n",
       "    </tr>\n",
       "    <tr>\n",
       "      <th>3</th>\n",
       "      <td>full_sync</td>\n",
       "      <td>4</td>\n",
       "      <td>0.1</td>\n",
       "      <td>100</td>\n",
       "      <td>7000</td>\n",
       "      <td>7001</td>\n",
       "      <td>ok</td>\n",
       "      <td>17.630142</td>\n",
       "      <td>1.63</td>\n",
       "      <td>0.000232</td>\n",
       "      <td>11.41</td>\n",
       "      <td>0.0</td>\n",
       "    </tr>\n",
       "    <tr>\n",
       "      <th>4</th>\n",
       "      <td>full_sync</td>\n",
       "      <td>6</td>\n",
       "      <td>0.1</td>\n",
       "      <td>100</td>\n",
       "      <td>7000</td>\n",
       "      <td>7001</td>\n",
       "      <td>ok</td>\n",
       "      <td>17.730293</td>\n",
       "      <td>1.38</td>\n",
       "      <td>0.000000</td>\n",
       "      <td>11.29</td>\n",
       "      <td>0.0</td>\n",
       "    </tr>\n",
       "    <tr>\n",
       "      <th>5</th>\n",
       "      <td>full_sync</td>\n",
       "      <td>8</td>\n",
       "      <td>0.1</td>\n",
       "      <td>100</td>\n",
       "      <td>7000</td>\n",
       "      <td>7001</td>\n",
       "      <td>ok</td>\n",
       "      <td>17.730071</td>\n",
       "      <td>1.32</td>\n",
       "      <td>0.000231</td>\n",
       "      <td>11.31</td>\n",
       "      <td>0.0</td>\n",
       "    </tr>\n",
       "    <tr>\n",
       "      <th>6</th>\n",
       "      <td>full_sync</td>\n",
       "      <td>10</td>\n",
       "      <td>0.1</td>\n",
       "      <td>100</td>\n",
       "      <td>7000</td>\n",
       "      <td>7001</td>\n",
       "      <td>ok</td>\n",
       "      <td>17.732376</td>\n",
       "      <td>1.43</td>\n",
       "      <td>0.000231</td>\n",
       "      <td>11.28</td>\n",
       "      <td>0.0</td>\n",
       "    </tr>\n",
       "  </tbody>\n",
       "</table>\n",
       "</div>"
      ],
      "text/plain": [
       "   test_type  rdb_threads  num_keys_millions  value_size_bytes  primary_port  \\\n",
       "0  full_sync            1                0.1               100          7000   \n",
       "1  full_sync            2                0.1               100          7000   \n",
       "2  full_sync            3                0.1               100          7000   \n",
       "3  full_sync            4                0.1               100          7000   \n",
       "4  full_sync            6                0.1               100          7000   \n",
       "5  full_sync            8                0.1               100          7000   \n",
       "6  full_sync           10                0.1               100          7000   \n",
       "\n",
       "   replica_port status  sync_duration_seconds  primary_cpu_time_seconds  \\\n",
       "0          7001     ok              23.641480                      2.61   \n",
       "1          7001     ok              19.633916                      1.64   \n",
       "2          7001     ok              18.632451                      1.57   \n",
       "3          7001     ok              17.630142                      1.63   \n",
       "4          7001     ok              17.730293                      1.38   \n",
       "5          7001     ok              17.730071                      1.32   \n",
       "6          7001     ok              17.732376                      1.43   \n",
       "\n",
       "   primary_io_write_mb_s  replica_cpu_time_seconds  replica_io_read_mb_s  \n",
       "0               0.000347                     12.71                   0.0  \n",
       "1               0.000209                     11.55                   0.0  \n",
       "2               0.000220                     11.45                   0.0  \n",
       "3               0.000232                     11.41                   0.0  \n",
       "4               0.000000                     11.29                   0.0  \n",
       "5               0.000231                     11.31                   0.0  \n",
       "6               0.000231                     11.28                   0.0  "
      ]
     },
     "execution_count": 20,
     "metadata": {},
     "output_type": "execute_result"
    }
   ],
   "source": [
    "df"
   ]
  },
  {
   "cell_type": "code",
   "execution_count": 21,
   "id": "bac3c1d3",
   "metadata": {},
   "outputs": [],
   "source": [
    "df = pd.read_csv(\"full_sync_heavy-json-2mill.csv\")"
   ]
  },
  {
   "cell_type": "code",
   "execution_count": 22,
   "id": "86e30740",
   "metadata": {},
   "outputs": [
    {
     "data": {
      "text/html": [
       "<div>\n",
       "<style scoped>\n",
       "    .dataframe tbody tr th:only-of-type {\n",
       "        vertical-align: middle;\n",
       "    }\n",
       "\n",
       "    .dataframe tbody tr th {\n",
       "        vertical-align: top;\n",
       "    }\n",
       "\n",
       "    .dataframe thead th {\n",
       "        text-align: right;\n",
       "    }\n",
       "</style>\n",
       "<table border=\"1\" class=\"dataframe\">\n",
       "  <thead>\n",
       "    <tr style=\"text-align: right;\">\n",
       "      <th></th>\n",
       "      <th>test_type</th>\n",
       "      <th>rdb_threads</th>\n",
       "      <th>num_keys_millions</th>\n",
       "      <th>value_size_bytes</th>\n",
       "      <th>primary_port</th>\n",
       "      <th>status</th>\n",
       "      <th>bgsave_duration_seconds</th>\n",
       "      <th>primary_cpu_time_seconds</th>\n",
       "      <th>primary_net_write_mb_s</th>\n",
       "    </tr>\n",
       "  </thead>\n",
       "  <tbody>\n",
       "    <tr>\n",
       "      <th>0</th>\n",
       "      <td>primary_bgsave</td>\n",
       "      <td>1</td>\n",
       "      <td>1.0</td>\n",
       "      <td>100</td>\n",
       "      <td>7000</td>\n",
       "      <td>ok</td>\n",
       "      <td>103.805421</td>\n",
       "      <td>103.47</td>\n",
       "      <td>89.273862</td>\n",
       "    </tr>\n",
       "    <tr>\n",
       "      <th>1</th>\n",
       "      <td>primary_bgsave</td>\n",
       "      <td>2</td>\n",
       "      <td>1.0</td>\n",
       "      <td>100</td>\n",
       "      <td>7000</td>\n",
       "      <td>ok</td>\n",
       "      <td>48.299751</td>\n",
       "      <td>93.70</td>\n",
       "      <td>191.277986</td>\n",
       "    </tr>\n",
       "    <tr>\n",
       "      <th>2</th>\n",
       "      <td>primary_bgsave</td>\n",
       "      <td>3</td>\n",
       "      <td>1.0</td>\n",
       "      <td>100</td>\n",
       "      <td>7000</td>\n",
       "      <td>ok</td>\n",
       "      <td>36.037740</td>\n",
       "      <td>102.15</td>\n",
       "      <td>255.984164</td>\n",
       "    </tr>\n",
       "    <tr>\n",
       "      <th>3</th>\n",
       "      <td>primary_bgsave</td>\n",
       "      <td>4</td>\n",
       "      <td>1.0</td>\n",
       "      <td>100</td>\n",
       "      <td>7000</td>\n",
       "      <td>ok</td>\n",
       "      <td>26.307607</td>\n",
       "      <td>97.54</td>\n",
       "      <td>350.494213</td>\n",
       "    </tr>\n",
       "    <tr>\n",
       "      <th>4</th>\n",
       "      <td>primary_bgsave</td>\n",
       "      <td>6</td>\n",
       "      <td>1.0</td>\n",
       "      <td>100</td>\n",
       "      <td>7000</td>\n",
       "      <td>ok</td>\n",
       "      <td>18.575728</td>\n",
       "      <td>100.72</td>\n",
       "      <td>495.465530</td>\n",
       "    </tr>\n",
       "    <tr>\n",
       "      <th>5</th>\n",
       "      <td>primary_bgsave</td>\n",
       "      <td>8</td>\n",
       "      <td>1.0</td>\n",
       "      <td>100</td>\n",
       "      <td>7000</td>\n",
       "      <td>ok</td>\n",
       "      <td>13.956728</td>\n",
       "      <td>97.36</td>\n",
       "      <td>658.772083</td>\n",
       "    </tr>\n",
       "    <tr>\n",
       "      <th>6</th>\n",
       "      <td>primary_bgsave</td>\n",
       "      <td>10</td>\n",
       "      <td>1.0</td>\n",
       "      <td>100</td>\n",
       "      <td>7000</td>\n",
       "      <td>ok</td>\n",
       "      <td>13.265815</td>\n",
       "      <td>97.42</td>\n",
       "      <td>694.656984</td>\n",
       "    </tr>\n",
       "    <tr>\n",
       "      <th>7</th>\n",
       "      <td>primary_bgsave</td>\n",
       "      <td>15</td>\n",
       "      <td>1.0</td>\n",
       "      <td>100</td>\n",
       "      <td>7000</td>\n",
       "      <td>ok</td>\n",
       "      <td>13.272289</td>\n",
       "      <td>104.66</td>\n",
       "      <td>695.847400</td>\n",
       "    </tr>\n",
       "    <tr>\n",
       "      <th>8</th>\n",
       "      <td>primary_bgsave</td>\n",
       "      <td>20</td>\n",
       "      <td>1.0</td>\n",
       "      <td>100</td>\n",
       "      <td>7000</td>\n",
       "      <td>ok</td>\n",
       "      <td>13.167936</td>\n",
       "      <td>105.44</td>\n",
       "      <td>695.188360</td>\n",
       "    </tr>\n",
       "    <tr>\n",
       "      <th>9</th>\n",
       "      <td>primary_bgsave</td>\n",
       "      <td>25</td>\n",
       "      <td>1.0</td>\n",
       "      <td>100</td>\n",
       "      <td>7000</td>\n",
       "      <td>ok</td>\n",
       "      <td>13.157423</td>\n",
       "      <td>106.35</td>\n",
       "      <td>696.638677</td>\n",
       "    </tr>\n",
       "    <tr>\n",
       "      <th>10</th>\n",
       "      <td>primary_bgsave</td>\n",
       "      <td>30</td>\n",
       "      <td>1.0</td>\n",
       "      <td>100</td>\n",
       "      <td>7000</td>\n",
       "      <td>ok</td>\n",
       "      <td>13.062020</td>\n",
       "      <td>106.20</td>\n",
       "      <td>703.329440</td>\n",
       "    </tr>\n",
       "  </tbody>\n",
       "</table>\n",
       "</div>"
      ],
      "text/plain": [
       "         test_type  rdb_threads  num_keys_millions  value_size_bytes  \\\n",
       "0   primary_bgsave            1                1.0               100   \n",
       "1   primary_bgsave            2                1.0               100   \n",
       "2   primary_bgsave            3                1.0               100   \n",
       "3   primary_bgsave            4                1.0               100   \n",
       "4   primary_bgsave            6                1.0               100   \n",
       "5   primary_bgsave            8                1.0               100   \n",
       "6   primary_bgsave           10                1.0               100   \n",
       "7   primary_bgsave           15                1.0               100   \n",
       "8   primary_bgsave           20                1.0               100   \n",
       "9   primary_bgsave           25                1.0               100   \n",
       "10  primary_bgsave           30                1.0               100   \n",
       "\n",
       "    primary_port status  bgsave_duration_seconds  primary_cpu_time_seconds  \\\n",
       "0           7000     ok               103.805421                    103.47   \n",
       "1           7000     ok                48.299751                     93.70   \n",
       "2           7000     ok                36.037740                    102.15   \n",
       "3           7000     ok                26.307607                     97.54   \n",
       "4           7000     ok                18.575728                    100.72   \n",
       "5           7000     ok                13.956728                     97.36   \n",
       "6           7000     ok                13.265815                     97.42   \n",
       "7           7000     ok                13.272289                    104.66   \n",
       "8           7000     ok                13.167936                    105.44   \n",
       "9           7000     ok                13.157423                    106.35   \n",
       "10          7000     ok                13.062020                    106.20   \n",
       "\n",
       "    primary_net_write_mb_s  \n",
       "0                89.273862  \n",
       "1               191.277986  \n",
       "2               255.984164  \n",
       "3               350.494213  \n",
       "4               495.465530  \n",
       "5               658.772083  \n",
       "6               694.656984  \n",
       "7               695.847400  \n",
       "8               695.188360  \n",
       "9               696.638677  \n",
       "10              703.329440  "
      ]
     },
     "execution_count": 22,
     "metadata": {},
     "output_type": "execute_result"
    }
   ],
   "source": [
    "df"
   ]
  },
  {
   "cell_type": "code",
   "execution_count": 23,
   "id": "b3c6d82f",
   "metadata": {},
   "outputs": [
    {
     "data": {
      "application/vnd.plotly.v1+json": {
       "config": {
        "plotlyServerURL": "https://plot.ly"
       },
       "data": [
        {
         "line": {
          "color": "#636EFA",
          "width": 2
         },
         "marker": {
          "size": 8,
          "symbol": "circle"
         },
         "mode": "lines+markers",
         "name": "Actual Throughput",
         "showlegend": true,
         "type": "scatter",
         "x": {
          "bdata": "AQIDBAYICg8UGR4=",
          "dtype": "i1"
         },
         "y": {
          "bdata": "f2d79IZRVkDeV+VC5ehnQNE8gEV+/29AIQTkS+jndUDp1JXPcvd+QGEW2jktloRA9s/TgEG1hUALtaZ5x76FQP8+48KBuYVAqd2vAhzFhUD0T3CxovqFQA==",
          "dtype": "f8"
         }
        },
        {
         "line": {
          "color": "gray",
          "dash": "dash"
         },
         "mode": "lines",
         "name": "Ideal Throughput (Network Limit)",
         "showlegend": true,
         "type": "scatter",
         "x": [
          1,
          2,
          3,
          4,
          6,
          8,
          10,
          15,
          20,
          25,
          30
         ],
         "y": [
          3237.5,
          3237.5,
          3237.5,
          3237.5,
          3237.5,
          3237.5,
          3237.5,
          3237.5,
          3237.5,
          3237.5,
          3237.5
         ]
        }
       ],
       "layout": {
        "height": 600,
        "hovermode": "x unified",
        "showlegend": true,
        "template": {
         "data": {
          "bar": [
           {
            "error_x": {
             "color": "#2a3f5f"
            },
            "error_y": {
             "color": "#2a3f5f"
            },
            "marker": {
             "line": {
              "color": "white",
              "width": 0.5
             },
             "pattern": {
              "fillmode": "overlay",
              "size": 10,
              "solidity": 0.2
             }
            },
            "type": "bar"
           }
          ],
          "barpolar": [
           {
            "marker": {
             "line": {
              "color": "white",
              "width": 0.5
             },
             "pattern": {
              "fillmode": "overlay",
              "size": 10,
              "solidity": 0.2
             }
            },
            "type": "barpolar"
           }
          ],
          "carpet": [
           {
            "aaxis": {
             "endlinecolor": "#2a3f5f",
             "gridcolor": "#C8D4E3",
             "linecolor": "#C8D4E3",
             "minorgridcolor": "#C8D4E3",
             "startlinecolor": "#2a3f5f"
            },
            "baxis": {
             "endlinecolor": "#2a3f5f",
             "gridcolor": "#C8D4E3",
             "linecolor": "#C8D4E3",
             "minorgridcolor": "#C8D4E3",
             "startlinecolor": "#2a3f5f"
            },
            "type": "carpet"
           }
          ],
          "choropleth": [
           {
            "colorbar": {
             "outlinewidth": 0,
             "ticks": ""
            },
            "type": "choropleth"
           }
          ],
          "contour": [
           {
            "colorbar": {
             "outlinewidth": 0,
             "ticks": ""
            },
            "colorscale": [
             [
              0,
              "#0d0887"
             ],
             [
              0.1111111111111111,
              "#46039f"
             ],
             [
              0.2222222222222222,
              "#7201a8"
             ],
             [
              0.3333333333333333,
              "#9c179e"
             ],
             [
              0.4444444444444444,
              "#bd3786"
             ],
             [
              0.5555555555555556,
              "#d8576b"
             ],
             [
              0.6666666666666666,
              "#ed7953"
             ],
             [
              0.7777777777777778,
              "#fb9f3a"
             ],
             [
              0.8888888888888888,
              "#fdca26"
             ],
             [
              1,
              "#f0f921"
             ]
            ],
            "type": "contour"
           }
          ],
          "contourcarpet": [
           {
            "colorbar": {
             "outlinewidth": 0,
             "ticks": ""
            },
            "type": "contourcarpet"
           }
          ],
          "heatmap": [
           {
            "colorbar": {
             "outlinewidth": 0,
             "ticks": ""
            },
            "colorscale": [
             [
              0,
              "#0d0887"
             ],
             [
              0.1111111111111111,
              "#46039f"
             ],
             [
              0.2222222222222222,
              "#7201a8"
             ],
             [
              0.3333333333333333,
              "#9c179e"
             ],
             [
              0.4444444444444444,
              "#bd3786"
             ],
             [
              0.5555555555555556,
              "#d8576b"
             ],
             [
              0.6666666666666666,
              "#ed7953"
             ],
             [
              0.7777777777777778,
              "#fb9f3a"
             ],
             [
              0.8888888888888888,
              "#fdca26"
             ],
             [
              1,
              "#f0f921"
             ]
            ],
            "type": "heatmap"
           }
          ],
          "histogram": [
           {
            "marker": {
             "pattern": {
              "fillmode": "overlay",
              "size": 10,
              "solidity": 0.2
             }
            },
            "type": "histogram"
           }
          ],
          "histogram2d": [
           {
            "colorbar": {
             "outlinewidth": 0,
             "ticks": ""
            },
            "colorscale": [
             [
              0,
              "#0d0887"
             ],
             [
              0.1111111111111111,
              "#46039f"
             ],
             [
              0.2222222222222222,
              "#7201a8"
             ],
             [
              0.3333333333333333,
              "#9c179e"
             ],
             [
              0.4444444444444444,
              "#bd3786"
             ],
             [
              0.5555555555555556,
              "#d8576b"
             ],
             [
              0.6666666666666666,
              "#ed7953"
             ],
             [
              0.7777777777777778,
              "#fb9f3a"
             ],
             [
              0.8888888888888888,
              "#fdca26"
             ],
             [
              1,
              "#f0f921"
             ]
            ],
            "type": "histogram2d"
           }
          ],
          "histogram2dcontour": [
           {
            "colorbar": {
             "outlinewidth": 0,
             "ticks": ""
            },
            "colorscale": [
             [
              0,
              "#0d0887"
             ],
             [
              0.1111111111111111,
              "#46039f"
             ],
             [
              0.2222222222222222,
              "#7201a8"
             ],
             [
              0.3333333333333333,
              "#9c179e"
             ],
             [
              0.4444444444444444,
              "#bd3786"
             ],
             [
              0.5555555555555556,
              "#d8576b"
             ],
             [
              0.6666666666666666,
              "#ed7953"
             ],
             [
              0.7777777777777778,
              "#fb9f3a"
             ],
             [
              0.8888888888888888,
              "#fdca26"
             ],
             [
              1,
              "#f0f921"
             ]
            ],
            "type": "histogram2dcontour"
           }
          ],
          "mesh3d": [
           {
            "colorbar": {
             "outlinewidth": 0,
             "ticks": ""
            },
            "type": "mesh3d"
           }
          ],
          "parcoords": [
           {
            "line": {
             "colorbar": {
              "outlinewidth": 0,
              "ticks": ""
             }
            },
            "type": "parcoords"
           }
          ],
          "pie": [
           {
            "automargin": true,
            "type": "pie"
           }
          ],
          "scatter": [
           {
            "fillpattern": {
             "fillmode": "overlay",
             "size": 10,
             "solidity": 0.2
            },
            "type": "scatter"
           }
          ],
          "scatter3d": [
           {
            "line": {
             "colorbar": {
              "outlinewidth": 0,
              "ticks": ""
             }
            },
            "marker": {
             "colorbar": {
              "outlinewidth": 0,
              "ticks": ""
             }
            },
            "type": "scatter3d"
           }
          ],
          "scattercarpet": [
           {
            "marker": {
             "colorbar": {
              "outlinewidth": 0,
              "ticks": ""
             }
            },
            "type": "scattercarpet"
           }
          ],
          "scattergeo": [
           {
            "marker": {
             "colorbar": {
              "outlinewidth": 0,
              "ticks": ""
             }
            },
            "type": "scattergeo"
           }
          ],
          "scattergl": [
           {
            "marker": {
             "colorbar": {
              "outlinewidth": 0,
              "ticks": ""
             }
            },
            "type": "scattergl"
           }
          ],
          "scattermap": [
           {
            "marker": {
             "colorbar": {
              "outlinewidth": 0,
              "ticks": ""
             }
            },
            "type": "scattermap"
           }
          ],
          "scattermapbox": [
           {
            "marker": {
             "colorbar": {
              "outlinewidth": 0,
              "ticks": ""
             }
            },
            "type": "scattermapbox"
           }
          ],
          "scatterpolar": [
           {
            "marker": {
             "colorbar": {
              "outlinewidth": 0,
              "ticks": ""
             }
            },
            "type": "scatterpolar"
           }
          ],
          "scatterpolargl": [
           {
            "marker": {
             "colorbar": {
              "outlinewidth": 0,
              "ticks": ""
             }
            },
            "type": "scatterpolargl"
           }
          ],
          "scatterternary": [
           {
            "marker": {
             "colorbar": {
              "outlinewidth": 0,
              "ticks": ""
             }
            },
            "type": "scatterternary"
           }
          ],
          "surface": [
           {
            "colorbar": {
             "outlinewidth": 0,
             "ticks": ""
            },
            "colorscale": [
             [
              0,
              "#0d0887"
             ],
             [
              0.1111111111111111,
              "#46039f"
             ],
             [
              0.2222222222222222,
              "#7201a8"
             ],
             [
              0.3333333333333333,
              "#9c179e"
             ],
             [
              0.4444444444444444,
              "#bd3786"
             ],
             [
              0.5555555555555556,
              "#d8576b"
             ],
             [
              0.6666666666666666,
              "#ed7953"
             ],
             [
              0.7777777777777778,
              "#fb9f3a"
             ],
             [
              0.8888888888888888,
              "#fdca26"
             ],
             [
              1,
              "#f0f921"
             ]
            ],
            "type": "surface"
           }
          ],
          "table": [
           {
            "cells": {
             "fill": {
              "color": "#EBF0F8"
             },
             "line": {
              "color": "white"
             }
            },
            "header": {
             "fill": {
              "color": "#C8D4E3"
             },
             "line": {
              "color": "white"
             }
            },
            "type": "table"
           }
          ]
         },
         "layout": {
          "annotationdefaults": {
           "arrowcolor": "#2a3f5f",
           "arrowhead": 0,
           "arrowwidth": 1
          },
          "autotypenumbers": "strict",
          "coloraxis": {
           "colorbar": {
            "outlinewidth": 0,
            "ticks": ""
           }
          },
          "colorscale": {
           "diverging": [
            [
             0,
             "#8e0152"
            ],
            [
             0.1,
             "#c51b7d"
            ],
            [
             0.2,
             "#de77ae"
            ],
            [
             0.3,
             "#f1b6da"
            ],
            [
             0.4,
             "#fde0ef"
            ],
            [
             0.5,
             "#f7f7f7"
            ],
            [
             0.6,
             "#e6f5d0"
            ],
            [
             0.7,
             "#b8e186"
            ],
            [
             0.8,
             "#7fbc41"
            ],
            [
             0.9,
             "#4d9221"
            ],
            [
             1,
             "#276419"
            ]
           ],
           "sequential": [
            [
             0,
             "#0d0887"
            ],
            [
             0.1111111111111111,
             "#46039f"
            ],
            [
             0.2222222222222222,
             "#7201a8"
            ],
            [
             0.3333333333333333,
             "#9c179e"
            ],
            [
             0.4444444444444444,
             "#bd3786"
            ],
            [
             0.5555555555555556,
             "#d8576b"
            ],
            [
             0.6666666666666666,
             "#ed7953"
            ],
            [
             0.7777777777777778,
             "#fb9f3a"
            ],
            [
             0.8888888888888888,
             "#fdca26"
            ],
            [
             1,
             "#f0f921"
            ]
           ],
           "sequentialminus": [
            [
             0,
             "#0d0887"
            ],
            [
             0.1111111111111111,
             "#46039f"
            ],
            [
             0.2222222222222222,
             "#7201a8"
            ],
            [
             0.3333333333333333,
             "#9c179e"
            ],
            [
             0.4444444444444444,
             "#bd3786"
            ],
            [
             0.5555555555555556,
             "#d8576b"
            ],
            [
             0.6666666666666666,
             "#ed7953"
            ],
            [
             0.7777777777777778,
             "#fb9f3a"
            ],
            [
             0.8888888888888888,
             "#fdca26"
            ],
            [
             1,
             "#f0f921"
            ]
           ]
          },
          "colorway": [
           "#636efa",
           "#EF553B",
           "#00cc96",
           "#ab63fa",
           "#FFA15A",
           "#19d3f3",
           "#FF6692",
           "#B6E880",
           "#FF97FF",
           "#FECB52"
          ],
          "font": {
           "color": "#2a3f5f"
          },
          "geo": {
           "bgcolor": "white",
           "lakecolor": "white",
           "landcolor": "white",
           "showlakes": true,
           "showland": true,
           "subunitcolor": "#C8D4E3"
          },
          "hoverlabel": {
           "align": "left"
          },
          "hovermode": "closest",
          "mapbox": {
           "style": "light"
          },
          "paper_bgcolor": "white",
          "plot_bgcolor": "white",
          "polar": {
           "angularaxis": {
            "gridcolor": "#EBF0F8",
            "linecolor": "#EBF0F8",
            "ticks": ""
           },
           "bgcolor": "white",
           "radialaxis": {
            "gridcolor": "#EBF0F8",
            "linecolor": "#EBF0F8",
            "ticks": ""
           }
          },
          "scene": {
           "xaxis": {
            "backgroundcolor": "white",
            "gridcolor": "#DFE8F3",
            "gridwidth": 2,
            "linecolor": "#EBF0F8",
            "showbackground": true,
            "ticks": "",
            "zerolinecolor": "#EBF0F8"
           },
           "yaxis": {
            "backgroundcolor": "white",
            "gridcolor": "#DFE8F3",
            "gridwidth": 2,
            "linecolor": "#EBF0F8",
            "showbackground": true,
            "ticks": "",
            "zerolinecolor": "#EBF0F8"
           },
           "zaxis": {
            "backgroundcolor": "white",
            "gridcolor": "#DFE8F3",
            "gridwidth": 2,
            "linecolor": "#EBF0F8",
            "showbackground": true,
            "ticks": "",
            "zerolinecolor": "#EBF0F8"
           }
          },
          "shapedefaults": {
           "line": {
            "color": "#2a3f5f"
           }
          },
          "ternary": {
           "aaxis": {
            "gridcolor": "#DFE8F3",
            "linecolor": "#A2B1C6",
            "ticks": ""
           },
           "baxis": {
            "gridcolor": "#DFE8F3",
            "linecolor": "#A2B1C6",
            "ticks": ""
           },
           "bgcolor": "white",
           "caxis": {
            "gridcolor": "#DFE8F3",
            "linecolor": "#A2B1C6",
            "ticks": ""
           }
          },
          "title": {
           "x": 0.05
          },
          "xaxis": {
           "automargin": true,
           "gridcolor": "#EBF0F8",
           "linecolor": "#EBF0F8",
           "ticks": "",
           "title": {
            "standoff": 15
           },
           "zerolinecolor": "#EBF0F8",
           "zerolinewidth": 2
          },
          "yaxis": {
           "automargin": true,
           "gridcolor": "#EBF0F8",
           "linecolor": "#EBF0F8",
           "ticks": "",
           "title": {
            "standoff": 15
           },
           "zerolinecolor": "#EBF0F8",
           "zerolinewidth": 2
          }
         }
        },
        "title": {
         "text": "RDB Transfer - Throughput vs. Number of Threads",
         "x": 0.5
        },
        "width": 800,
        "xaxis": {
         "tickmode": "array",
         "tickvals": [
          1,
          2,
          3,
          4,
          6,
          8,
          10,
          15,
          20,
          25,
          30
         ],
         "title": {
          "text": "Number of Threads"
         }
        },
        "yaxis": {
         "range": [
          0,
          3561.2500000000005
         ],
         "title": {
          "text": "Network Throughput (MB/s)"
         }
        }
       }
      }
     },
     "metadata": {},
     "output_type": "display_data"
    }
   ],
   "source": [
    "import pandas as pd\n",
    "import plotly.graph_objects as go\n",
    "import plotly.express as px\n",
    "from typing import List\n",
    "import io\n",
    "\n",
    "def plot_rdb_throughput(df: pd.DataFrame, title: str):\n",
    "    \"\"\"\n",
    "    Generates an interactive Plotly graph showing network throughput vs.\n",
    "    number of threads, with an ideal throughput line for comparison.\n",
    "\n",
    "    Args:\n",
    "        df (pd.DataFrame): A DataFrame containing 'rdb_threads' and\n",
    "                          'primary_net_write_mb_s' columns.\n",
    "        title (str): The main title for the graph.\n",
    "    \"\"\"\n",
    "    if not isinstance(df, pd.DataFrame) or df.empty:\n",
    "        print(\"Error: Input 'df' must be a non-empty DataFrame.\")\n",
    "        return\n",
    "\n",
    "    # Get all unique thread counts for x-axis ticks\n",
    "    all_num_threads = sorted(df['rdb_threads'].unique())\n",
    "\n",
    "    fig = go.Figure()\n",
    "\n",
    "    # Plot the actual throughput data\n",
    "    fig.add_trace(\n",
    "        go.Scatter(\n",
    "            x=df['rdb_threads'],\n",
    "            y=df['primary_net_write_mb_s'],\n",
    "            mode='lines+markers',\n",
    "            name='Actual Throughput',\n",
    "            marker=dict(symbol='circle', size=8),\n",
    "            line=dict(width=2, color=px.colors.qualitative.Plotly[0]),\n",
    "            showlegend=True\n",
    "        )\n",
    "    )\n",
    "\n",
    "    # Add Ideal Network Throughput line (from iPerf3 test)\n",
    "    # The value 3237.50 MB/s is from our iPerf3 test results.\n",
    "    ideal_throughput_mb_s = 3237.50 \n",
    "    fig.add_trace(\n",
    "        go.Scatter(\n",
    "            x=all_num_threads,\n",
    "            y=[ideal_throughput_mb_s] * len(all_num_threads),\n",
    "            mode='lines',\n",
    "            name='Ideal Throughput (Network Limit)',\n",
    "            line=dict(dash='dash', color='gray'),\n",
    "            showlegend=True\n",
    "        )\n",
    "    )\n",
    "\n",
    "    # Update layout for a beautiful graph\n",
    "    fig.update_layout(\n",
    "        title_text=f'{title} - Throughput vs. Number of Threads',\n",
    "        height=600, width=800,\n",
    "        showlegend=True,\n",
    "        hovermode=\"x unified\",\n",
    "        template=\"plotly_white\",\n",
    "        title_x=0.5,\n",
    "        xaxis=dict(\n",
    "            title_text='Number of Threads',\n",
    "            tickmode='array',\n",
    "            tickvals=all_num_threads\n",
    "        ),\n",
    "        yaxis=dict(\n",
    "            title_text='Network Throughput (MB/s)',\n",
    "            range=[0, ideal_throughput_mb_s * 1.1]\n",
    "        )\n",
    "    )\n",
    "\n",
    "    fig.show()\n",
    "    fig.write_json(\"rdb_throughput_plot_go.json\")\n",
    "\n",
    "# User-provided data as a string\n",
    "user_data_string = \"\"\"\ttest_type\trdb_threads\tnum_keys_millions\tvalue_size_bytes\tprimary_port\tstatus\tbgsave_duration_seconds\tprimary_cpu_time_seconds\tprimary_net_write_mb_s\n",
    "0\tprimary_bgsave\t1\t1.0\t100\t7000\tok\t103.805421\t103.47\t89.273862\n",
    "1\tprimary_bgsave\t2\t1.0\t100\t7000\tok\t48.299751\t93.70\t191.277986\n",
    "2\tprimary_bgsave\t3\t1.0\t100\t7000\tok\t36.037740\t102.15\t255.984164\n",
    "3\tprimary_bgsave\t4\t1.0\t100\t7000\tok\t26.307607\t97.54\t350.494213\n",
    "4\tprimary_bgsave\t6\t1.0\t100\t7000\tok\t18.575728\t100.72\t495.465530\n",
    "5\tprimary_bgsave\t8\t1.0\t100\t7000\tok\t13.956728\t97.36\t658.772083\n",
    "6\tprimary_bgsave\t10\t1.0\t100\t7000\tok\t13.265815\t97.42\t694.656984\n",
    "7\tprimary_bgsave\t15\t1.0\t100\t7000\tok\t13.272289\t104.66\t695.847400\n",
    "8\tprimary_bgsave\t20\t1.0\t100\t7000\tok\t13.167936\t105.44\t695.188360\n",
    "9\tprimary_bgsave\t25\t1.0\t100\t7000\tok\t13.157423\t106.35\t696.638677\n",
    "10\tprimary_bgsave\t30\t1.0\t100\t7000\tok\t13.062020\t106.20\t703.329440\n",
    "\"\"\"\n",
    "# Convert the string to a DataFrame\n",
    "df_user = pd.read_csv(io.StringIO(user_data_string), sep='\\t')\n",
    "\n",
    "# Call the new plotting function\n",
    "plot_rdb_throughput(df_user, title='RDB Transfer')"
   ]
  },
  {
   "cell_type": "code",
   "execution_count": 24,
   "id": "9c13a443",
   "metadata": {},
   "outputs": [
    {
     "data": {
      "application/vnd.plotly.v1+json": {
       "config": {
        "plotlyServerURL": "https://plot.ly"
       },
       "data": [
        {
         "line": {
          "color": "#636EFA",
          "width": 2
         },
         "marker": {
          "size": 8,
          "symbol": "circle"
         },
         "mode": "lines+markers",
         "name": "Actual Throughput",
         "showlegend": true,
         "type": "scatter",
         "x": {
          "bdata": "AQIDBAYICg8UGR4=",
          "dtype": "i1"
         },
         "y": {
          "bdata": "LKcp84ZRVkA8OlVD5ehnQOoUg0R+/29AI2zkS+jndUBUmPPPcvd+QGFY1TktloRAWejTgEG1hUDvgIN5x76FQMpQDMOBuYVAuFXLAhzFhUBmeXWxovqFQA==",
          "dtype": "f8"
         }
        },
        {
         "line": {
          "color": "gray",
          "dash": "dash"
         },
         "mode": "lines",
         "name": "Ideal Throughput (Network Limit)",
         "showlegend": true,
         "type": "scatter",
         "x": [
          1,
          2,
          3,
          4,
          6,
          8,
          10,
          15,
          20,
          25,
          30
         ],
         "y": [
          3237.5,
          3237.5,
          3237.5,
          3237.5,
          3237.5,
          3237.5,
          3237.5,
          3237.5,
          3237.5,
          3237.5,
          3237.5
         ]
        }
       ],
       "layout": {
        "height": 600,
        "hovermode": "x unified",
        "showlegend": true,
        "template": {
         "data": {
          "bar": [
           {
            "error_x": {
             "color": "#2a3f5f"
            },
            "error_y": {
             "color": "#2a3f5f"
            },
            "marker": {
             "line": {
              "color": "white",
              "width": 0.5
             },
             "pattern": {
              "fillmode": "overlay",
              "size": 10,
              "solidity": 0.2
             }
            },
            "type": "bar"
           }
          ],
          "barpolar": [
           {
            "marker": {
             "line": {
              "color": "white",
              "width": 0.5
             },
             "pattern": {
              "fillmode": "overlay",
              "size": 10,
              "solidity": 0.2
             }
            },
            "type": "barpolar"
           }
          ],
          "carpet": [
           {
            "aaxis": {
             "endlinecolor": "#2a3f5f",
             "gridcolor": "#C8D4E3",
             "linecolor": "#C8D4E3",
             "minorgridcolor": "#C8D4E3",
             "startlinecolor": "#2a3f5f"
            },
            "baxis": {
             "endlinecolor": "#2a3f5f",
             "gridcolor": "#C8D4E3",
             "linecolor": "#C8D4E3",
             "minorgridcolor": "#C8D4E3",
             "startlinecolor": "#2a3f5f"
            },
            "type": "carpet"
           }
          ],
          "choropleth": [
           {
            "colorbar": {
             "outlinewidth": 0,
             "ticks": ""
            },
            "type": "choropleth"
           }
          ],
          "contour": [
           {
            "colorbar": {
             "outlinewidth": 0,
             "ticks": ""
            },
            "colorscale": [
             [
              0,
              "#0d0887"
             ],
             [
              0.1111111111111111,
              "#46039f"
             ],
             [
              0.2222222222222222,
              "#7201a8"
             ],
             [
              0.3333333333333333,
              "#9c179e"
             ],
             [
              0.4444444444444444,
              "#bd3786"
             ],
             [
              0.5555555555555556,
              "#d8576b"
             ],
             [
              0.6666666666666666,
              "#ed7953"
             ],
             [
              0.7777777777777778,
              "#fb9f3a"
             ],
             [
              0.8888888888888888,
              "#fdca26"
             ],
             [
              1,
              "#f0f921"
             ]
            ],
            "type": "contour"
           }
          ],
          "contourcarpet": [
           {
            "colorbar": {
             "outlinewidth": 0,
             "ticks": ""
            },
            "type": "contourcarpet"
           }
          ],
          "heatmap": [
           {
            "colorbar": {
             "outlinewidth": 0,
             "ticks": ""
            },
            "colorscale": [
             [
              0,
              "#0d0887"
             ],
             [
              0.1111111111111111,
              "#46039f"
             ],
             [
              0.2222222222222222,
              "#7201a8"
             ],
             [
              0.3333333333333333,
              "#9c179e"
             ],
             [
              0.4444444444444444,
              "#bd3786"
             ],
             [
              0.5555555555555556,
              "#d8576b"
             ],
             [
              0.6666666666666666,
              "#ed7953"
             ],
             [
              0.7777777777777778,
              "#fb9f3a"
             ],
             [
              0.8888888888888888,
              "#fdca26"
             ],
             [
              1,
              "#f0f921"
             ]
            ],
            "type": "heatmap"
           }
          ],
          "histogram": [
           {
            "marker": {
             "pattern": {
              "fillmode": "overlay",
              "size": 10,
              "solidity": 0.2
             }
            },
            "type": "histogram"
           }
          ],
          "histogram2d": [
           {
            "colorbar": {
             "outlinewidth": 0,
             "ticks": ""
            },
            "colorscale": [
             [
              0,
              "#0d0887"
             ],
             [
              0.1111111111111111,
              "#46039f"
             ],
             [
              0.2222222222222222,
              "#7201a8"
             ],
             [
              0.3333333333333333,
              "#9c179e"
             ],
             [
              0.4444444444444444,
              "#bd3786"
             ],
             [
              0.5555555555555556,
              "#d8576b"
             ],
             [
              0.6666666666666666,
              "#ed7953"
             ],
             [
              0.7777777777777778,
              "#fb9f3a"
             ],
             [
              0.8888888888888888,
              "#fdca26"
             ],
             [
              1,
              "#f0f921"
             ]
            ],
            "type": "histogram2d"
           }
          ],
          "histogram2dcontour": [
           {
            "colorbar": {
             "outlinewidth": 0,
             "ticks": ""
            },
            "colorscale": [
             [
              0,
              "#0d0887"
             ],
             [
              0.1111111111111111,
              "#46039f"
             ],
             [
              0.2222222222222222,
              "#7201a8"
             ],
             [
              0.3333333333333333,
              "#9c179e"
             ],
             [
              0.4444444444444444,
              "#bd3786"
             ],
             [
              0.5555555555555556,
              "#d8576b"
             ],
             [
              0.6666666666666666,
              "#ed7953"
             ],
             [
              0.7777777777777778,
              "#fb9f3a"
             ],
             [
              0.8888888888888888,
              "#fdca26"
             ],
             [
              1,
              "#f0f921"
             ]
            ],
            "type": "histogram2dcontour"
           }
          ],
          "mesh3d": [
           {
            "colorbar": {
             "outlinewidth": 0,
             "ticks": ""
            },
            "type": "mesh3d"
           }
          ],
          "parcoords": [
           {
            "line": {
             "colorbar": {
              "outlinewidth": 0,
              "ticks": ""
             }
            },
            "type": "parcoords"
           }
          ],
          "pie": [
           {
            "automargin": true,
            "type": "pie"
           }
          ],
          "scatter": [
           {
            "fillpattern": {
             "fillmode": "overlay",
             "size": 10,
             "solidity": 0.2
            },
            "type": "scatter"
           }
          ],
          "scatter3d": [
           {
            "line": {
             "colorbar": {
              "outlinewidth": 0,
              "ticks": ""
             }
            },
            "marker": {
             "colorbar": {
              "outlinewidth": 0,
              "ticks": ""
             }
            },
            "type": "scatter3d"
           }
          ],
          "scattercarpet": [
           {
            "marker": {
             "colorbar": {
              "outlinewidth": 0,
              "ticks": ""
             }
            },
            "type": "scattercarpet"
           }
          ],
          "scattergeo": [
           {
            "marker": {
             "colorbar": {
              "outlinewidth": 0,
              "ticks": ""
             }
            },
            "type": "scattergeo"
           }
          ],
          "scattergl": [
           {
            "marker": {
             "colorbar": {
              "outlinewidth": 0,
              "ticks": ""
             }
            },
            "type": "scattergl"
           }
          ],
          "scattermap": [
           {
            "marker": {
             "colorbar": {
              "outlinewidth": 0,
              "ticks": ""
             }
            },
            "type": "scattermap"
           }
          ],
          "scattermapbox": [
           {
            "marker": {
             "colorbar": {
              "outlinewidth": 0,
              "ticks": ""
             }
            },
            "type": "scattermapbox"
           }
          ],
          "scatterpolar": [
           {
            "marker": {
             "colorbar": {
              "outlinewidth": 0,
              "ticks": ""
             }
            },
            "type": "scatterpolar"
           }
          ],
          "scatterpolargl": [
           {
            "marker": {
             "colorbar": {
              "outlinewidth": 0,
              "ticks": ""
             }
            },
            "type": "scatterpolargl"
           }
          ],
          "scatterternary": [
           {
            "marker": {
             "colorbar": {
              "outlinewidth": 0,
              "ticks": ""
             }
            },
            "type": "scatterternary"
           }
          ],
          "surface": [
           {
            "colorbar": {
             "outlinewidth": 0,
             "ticks": ""
            },
            "colorscale": [
             [
              0,
              "#0d0887"
             ],
             [
              0.1111111111111111,
              "#46039f"
             ],
             [
              0.2222222222222222,
              "#7201a8"
             ],
             [
              0.3333333333333333,
              "#9c179e"
             ],
             [
              0.4444444444444444,
              "#bd3786"
             ],
             [
              0.5555555555555556,
              "#d8576b"
             ],
             [
              0.6666666666666666,
              "#ed7953"
             ],
             [
              0.7777777777777778,
              "#fb9f3a"
             ],
             [
              0.8888888888888888,
              "#fdca26"
             ],
             [
              1,
              "#f0f921"
             ]
            ],
            "type": "surface"
           }
          ],
          "table": [
           {
            "cells": {
             "fill": {
              "color": "#EBF0F8"
             },
             "line": {
              "color": "white"
             }
            },
            "header": {
             "fill": {
              "color": "#C8D4E3"
             },
             "line": {
              "color": "white"
             }
            },
            "type": "table"
           }
          ]
         },
         "layout": {
          "annotationdefaults": {
           "arrowcolor": "#2a3f5f",
           "arrowhead": 0,
           "arrowwidth": 1
          },
          "autotypenumbers": "strict",
          "coloraxis": {
           "colorbar": {
            "outlinewidth": 0,
            "ticks": ""
           }
          },
          "colorscale": {
           "diverging": [
            [
             0,
             "#8e0152"
            ],
            [
             0.1,
             "#c51b7d"
            ],
            [
             0.2,
             "#de77ae"
            ],
            [
             0.3,
             "#f1b6da"
            ],
            [
             0.4,
             "#fde0ef"
            ],
            [
             0.5,
             "#f7f7f7"
            ],
            [
             0.6,
             "#e6f5d0"
            ],
            [
             0.7,
             "#b8e186"
            ],
            [
             0.8,
             "#7fbc41"
            ],
            [
             0.9,
             "#4d9221"
            ],
            [
             1,
             "#276419"
            ]
           ],
           "sequential": [
            [
             0,
             "#0d0887"
            ],
            [
             0.1111111111111111,
             "#46039f"
            ],
            [
             0.2222222222222222,
             "#7201a8"
            ],
            [
             0.3333333333333333,
             "#9c179e"
            ],
            [
             0.4444444444444444,
             "#bd3786"
            ],
            [
             0.5555555555555556,
             "#d8576b"
            ],
            [
             0.6666666666666666,
             "#ed7953"
            ],
            [
             0.7777777777777778,
             "#fb9f3a"
            ],
            [
             0.8888888888888888,
             "#fdca26"
            ],
            [
             1,
             "#f0f921"
            ]
           ],
           "sequentialminus": [
            [
             0,
             "#0d0887"
            ],
            [
             0.1111111111111111,
             "#46039f"
            ],
            [
             0.2222222222222222,
             "#7201a8"
            ],
            [
             0.3333333333333333,
             "#9c179e"
            ],
            [
             0.4444444444444444,
             "#bd3786"
            ],
            [
             0.5555555555555556,
             "#d8576b"
            ],
            [
             0.6666666666666666,
             "#ed7953"
            ],
            [
             0.7777777777777778,
             "#fb9f3a"
            ],
            [
             0.8888888888888888,
             "#fdca26"
            ],
            [
             1,
             "#f0f921"
            ]
           ]
          },
          "colorway": [
           "#636efa",
           "#EF553B",
           "#00cc96",
           "#ab63fa",
           "#FFA15A",
           "#19d3f3",
           "#FF6692",
           "#B6E880",
           "#FF97FF",
           "#FECB52"
          ],
          "font": {
           "color": "#2a3f5f"
          },
          "geo": {
           "bgcolor": "white",
           "lakecolor": "white",
           "landcolor": "white",
           "showlakes": true,
           "showland": true,
           "subunitcolor": "#C8D4E3"
          },
          "hoverlabel": {
           "align": "left"
          },
          "hovermode": "closest",
          "mapbox": {
           "style": "light"
          },
          "paper_bgcolor": "white",
          "plot_bgcolor": "white",
          "polar": {
           "angularaxis": {
            "gridcolor": "#EBF0F8",
            "linecolor": "#EBF0F8",
            "ticks": ""
           },
           "bgcolor": "white",
           "radialaxis": {
            "gridcolor": "#EBF0F8",
            "linecolor": "#EBF0F8",
            "ticks": ""
           }
          },
          "scene": {
           "xaxis": {
            "backgroundcolor": "white",
            "gridcolor": "#DFE8F3",
            "gridwidth": 2,
            "linecolor": "#EBF0F8",
            "showbackground": true,
            "ticks": "",
            "zerolinecolor": "#EBF0F8"
           },
           "yaxis": {
            "backgroundcolor": "white",
            "gridcolor": "#DFE8F3",
            "gridwidth": 2,
            "linecolor": "#EBF0F8",
            "showbackground": true,
            "ticks": "",
            "zerolinecolor": "#EBF0F8"
           },
           "zaxis": {
            "backgroundcolor": "white",
            "gridcolor": "#DFE8F3",
            "gridwidth": 2,
            "linecolor": "#EBF0F8",
            "showbackground": true,
            "ticks": "",
            "zerolinecolor": "#EBF0F8"
           }
          },
          "shapedefaults": {
           "line": {
            "color": "#2a3f5f"
           }
          },
          "ternary": {
           "aaxis": {
            "gridcolor": "#DFE8F3",
            "linecolor": "#A2B1C6",
            "ticks": ""
           },
           "baxis": {
            "gridcolor": "#DFE8F3",
            "linecolor": "#A2B1C6",
            "ticks": ""
           },
           "bgcolor": "white",
           "caxis": {
            "gridcolor": "#DFE8F3",
            "linecolor": "#A2B1C6",
            "ticks": ""
           }
          },
          "title": {
           "x": 0.05
          },
          "xaxis": {
           "automargin": true,
           "gridcolor": "#EBF0F8",
           "linecolor": "#EBF0F8",
           "ticks": "",
           "title": {
            "standoff": 15
           },
           "zerolinecolor": "#EBF0F8",
           "zerolinewidth": 2
          },
          "yaxis": {
           "automargin": true,
           "gridcolor": "#EBF0F8",
           "linecolor": "#EBF0F8",
           "ticks": "",
           "title": {
            "standoff": 15
           },
           "zerolinecolor": "#EBF0F8",
           "zerolinewidth": 2
          }
         }
        },
        "title": {
         "text": "title - Throughput vs. Number of Threads",
         "x": 0.5
        },
        "width": 800,
        "xaxis": {
         "tickmode": "array",
         "tickvals": [
          1,
          2,
          3,
          4,
          6,
          8,
          10,
          15,
          20,
          25,
          30
         ],
         "title": {
          "text": "Number of Threads"
         }
        },
        "yaxis": {
         "range": [
          0,
          3561.2500000000005
         ],
         "title": {
          "text": "Network Throughput (MB/s)"
         }
        }
       }
      }
     },
     "metadata": {},
     "output_type": "display_data"
    }
   ],
   "source": [
    "plot_rdb_throughput(df, \"title\")"
   ]
  },
  {
   "cell_type": "code",
   "execution_count": 25,
   "id": "61348c8b",
   "metadata": {},
   "outputs": [],
   "source": [
    "df_replica = pd.read_csv(\"full_sync_heavy-json-2mill-replica.csv\")"
   ]
  },
  {
   "cell_type": "code",
   "execution_count": 26,
   "id": "8fc40487",
   "metadata": {},
   "outputs": [
    {
     "data": {
      "text/html": [
       "<div>\n",
       "<style scoped>\n",
       "    .dataframe tbody tr th:only-of-type {\n",
       "        vertical-align: middle;\n",
       "    }\n",
       "\n",
       "    .dataframe tbody tr th {\n",
       "        vertical-align: top;\n",
       "    }\n",
       "\n",
       "    .dataframe thead th {\n",
       "        text-align: right;\n",
       "    }\n",
       "</style>\n",
       "<table border=\"1\" class=\"dataframe\">\n",
       "  <thead>\n",
       "    <tr style=\"text-align: right;\">\n",
       "      <th></th>\n",
       "      <th>test_type</th>\n",
       "      <th>rdb_threads</th>\n",
       "      <th>num_keys_millions</th>\n",
       "      <th>value_size_bytes</th>\n",
       "      <th>sync_duration_seconds</th>\n",
       "      <th>primary_ip</th>\n",
       "      <th>replica_ip</th>\n",
       "      <th>replica_port</th>\n",
       "      <th>replica_cpu_time_seconds</th>\n",
       "      <th>replica_net_read_mb_s</th>\n",
       "      <th>status</th>\n",
       "    </tr>\n",
       "  </thead>\n",
       "  <tbody>\n",
       "    <tr>\n",
       "      <th>0</th>\n",
       "      <td>replica_full_sync</td>\n",
       "      <td>1</td>\n",
       "      <td>10.0</td>\n",
       "      <td>100</td>\n",
       "      <td>23.530062</td>\n",
       "      <td>10.128.0.8</td>\n",
       "      <td>10.128.0.9</td>\n",
       "      <td>7001</td>\n",
       "      <td>7.97</td>\n",
       "      <td>51.283130</td>\n",
       "      <td>success</td>\n",
       "    </tr>\n",
       "    <tr>\n",
       "      <th>1</th>\n",
       "      <td>replica_full_sync</td>\n",
       "      <td>2</td>\n",
       "      <td>10.0</td>\n",
       "      <td>100</td>\n",
       "      <td>17.621643</td>\n",
       "      <td>10.128.0.8</td>\n",
       "      <td>10.128.0.9</td>\n",
       "      <td>7001</td>\n",
       "      <td>7.44</td>\n",
       "      <td>68.287366</td>\n",
       "      <td>success</td>\n",
       "    </tr>\n",
       "    <tr>\n",
       "      <th>2</th>\n",
       "      <td>replica_full_sync</td>\n",
       "      <td>3</td>\n",
       "      <td>10.0</td>\n",
       "      <td>100</td>\n",
       "      <td>15.520386</td>\n",
       "      <td>10.128.0.8</td>\n",
       "      <td>10.128.0.9</td>\n",
       "      <td>7001</td>\n",
       "      <td>7.36</td>\n",
       "      <td>77.536062</td>\n",
       "      <td>success</td>\n",
       "    </tr>\n",
       "    <tr>\n",
       "      <th>3</th>\n",
       "      <td>replica_full_sync</td>\n",
       "      <td>4</td>\n",
       "      <td>10.0</td>\n",
       "      <td>100</td>\n",
       "      <td>15.421679</td>\n",
       "      <td>10.128.0.8</td>\n",
       "      <td>10.128.0.9</td>\n",
       "      <td>7001</td>\n",
       "      <td>7.47</td>\n",
       "      <td>78.033571</td>\n",
       "      <td>success</td>\n",
       "    </tr>\n",
       "    <tr>\n",
       "      <th>4</th>\n",
       "      <td>replica_full_sync</td>\n",
       "      <td>6</td>\n",
       "      <td>10.0</td>\n",
       "      <td>100</td>\n",
       "      <td>14.518671</td>\n",
       "      <td>10.128.0.8</td>\n",
       "      <td>10.128.0.9</td>\n",
       "      <td>7001</td>\n",
       "      <td>7.56</td>\n",
       "      <td>82.881191</td>\n",
       "      <td>success</td>\n",
       "    </tr>\n",
       "    <tr>\n",
       "      <th>5</th>\n",
       "      <td>replica_full_sync</td>\n",
       "      <td>8</td>\n",
       "      <td>10.0</td>\n",
       "      <td>100</td>\n",
       "      <td>14.218560</td>\n",
       "      <td>10.128.0.8</td>\n",
       "      <td>10.128.0.9</td>\n",
       "      <td>7001</td>\n",
       "      <td>8.32</td>\n",
       "      <td>84.633827</td>\n",
       "      <td>success</td>\n",
       "    </tr>\n",
       "    <tr>\n",
       "      <th>6</th>\n",
       "      <td>replica_full_sync</td>\n",
       "      <td>10</td>\n",
       "      <td>10.0</td>\n",
       "      <td>100</td>\n",
       "      <td>14.722507</td>\n",
       "      <td>10.128.0.8</td>\n",
       "      <td>10.128.0.9</td>\n",
       "      <td>7001</td>\n",
       "      <td>7.51</td>\n",
       "      <td>81.715881</td>\n",
       "      <td>success</td>\n",
       "    </tr>\n",
       "    <tr>\n",
       "      <th>7</th>\n",
       "      <td>replica_full_sync</td>\n",
       "      <td>15</td>\n",
       "      <td>10.0</td>\n",
       "      <td>100</td>\n",
       "      <td>14.823518</td>\n",
       "      <td>10.128.0.8</td>\n",
       "      <td>10.128.0.9</td>\n",
       "      <td>7001</td>\n",
       "      <td>7.64</td>\n",
       "      <td>81.130260</td>\n",
       "      <td>success</td>\n",
       "    </tr>\n",
       "    <tr>\n",
       "      <th>8</th>\n",
       "      <td>replica_full_sync</td>\n",
       "      <td>20</td>\n",
       "      <td>10.0</td>\n",
       "      <td>100</td>\n",
       "      <td>13.922445</td>\n",
       "      <td>10.128.0.8</td>\n",
       "      <td>10.128.0.9</td>\n",
       "      <td>7001</td>\n",
       "      <td>7.71</td>\n",
       "      <td>86.386649</td>\n",
       "      <td>success</td>\n",
       "    </tr>\n",
       "    <tr>\n",
       "      <th>9</th>\n",
       "      <td>replica_full_sync</td>\n",
       "      <td>25</td>\n",
       "      <td>10.0</td>\n",
       "      <td>100</td>\n",
       "      <td>13.721187</td>\n",
       "      <td>10.128.0.8</td>\n",
       "      <td>10.128.0.9</td>\n",
       "      <td>7001</td>\n",
       "      <td>7.53</td>\n",
       "      <td>87.642494</td>\n",
       "      <td>success</td>\n",
       "    </tr>\n",
       "    <tr>\n",
       "      <th>10</th>\n",
       "      <td>replica_full_sync</td>\n",
       "      <td>30</td>\n",
       "      <td>10.0</td>\n",
       "      <td>100</td>\n",
       "      <td>13.720079</td>\n",
       "      <td>10.128.0.8</td>\n",
       "      <td>10.128.0.9</td>\n",
       "      <td>7001</td>\n",
       "      <td>7.55</td>\n",
       "      <td>87.655796</td>\n",
       "      <td>success</td>\n",
       "    </tr>\n",
       "  </tbody>\n",
       "</table>\n",
       "</div>"
      ],
      "text/plain": [
       "            test_type  rdb_threads  num_keys_millions  value_size_bytes  \\\n",
       "0   replica_full_sync            1               10.0               100   \n",
       "1   replica_full_sync            2               10.0               100   \n",
       "2   replica_full_sync            3               10.0               100   \n",
       "3   replica_full_sync            4               10.0               100   \n",
       "4   replica_full_sync            6               10.0               100   \n",
       "5   replica_full_sync            8               10.0               100   \n",
       "6   replica_full_sync           10               10.0               100   \n",
       "7   replica_full_sync           15               10.0               100   \n",
       "8   replica_full_sync           20               10.0               100   \n",
       "9   replica_full_sync           25               10.0               100   \n",
       "10  replica_full_sync           30               10.0               100   \n",
       "\n",
       "    sync_duration_seconds  primary_ip  replica_ip  replica_port  \\\n",
       "0               23.530062  10.128.0.8  10.128.0.9          7001   \n",
       "1               17.621643  10.128.0.8  10.128.0.9          7001   \n",
       "2               15.520386  10.128.0.8  10.128.0.9          7001   \n",
       "3               15.421679  10.128.0.8  10.128.0.9          7001   \n",
       "4               14.518671  10.128.0.8  10.128.0.9          7001   \n",
       "5               14.218560  10.128.0.8  10.128.0.9          7001   \n",
       "6               14.722507  10.128.0.8  10.128.0.9          7001   \n",
       "7               14.823518  10.128.0.8  10.128.0.9          7001   \n",
       "8               13.922445  10.128.0.8  10.128.0.9          7001   \n",
       "9               13.721187  10.128.0.8  10.128.0.9          7001   \n",
       "10              13.720079  10.128.0.8  10.128.0.9          7001   \n",
       "\n",
       "    replica_cpu_time_seconds  replica_net_read_mb_s   status  \n",
       "0                       7.97              51.283130  success  \n",
       "1                       7.44              68.287366  success  \n",
       "2                       7.36              77.536062  success  \n",
       "3                       7.47              78.033571  success  \n",
       "4                       7.56              82.881191  success  \n",
       "5                       8.32              84.633827  success  \n",
       "6                       7.51              81.715881  success  \n",
       "7                       7.64              81.130260  success  \n",
       "8                       7.71              86.386649  success  \n",
       "9                       7.53              87.642494  success  \n",
       "10                      7.55              87.655796  success  "
      ]
     },
     "execution_count": 26,
     "metadata": {},
     "output_type": "execute_result"
    }
   ],
   "source": [
    "df_replica"
   ]
  },
  {
   "cell_type": "code",
   "execution_count": null,
   "id": "4a446e1b",
   "metadata": {},
   "outputs": [],
   "source": []
  }
 ],
 "metadata": {
  "kernelspec": {
   "display_name": "venv",
   "language": "python",
   "name": "python3"
  },
  "language_info": {
   "codemirror_mode": {
    "name": "ipython",
    "version": 3
   },
   "file_extension": ".py",
   "mimetype": "text/x-python",
   "name": "python",
   "nbconvert_exporter": "python",
   "pygments_lexer": "ipython3",
   "version": "3.12.9"
  }
 },
 "nbformat": 4,
 "nbformat_minor": 5
}
