{
 "cells": [
  {
   "cell_type": "code",
   "execution_count": 18,
   "id": "a17e45c7",
   "metadata": {},
   "outputs": [],
   "source": [
    "import pandas as pd\n",
    "import plotly.graph_objects as go"
   ]
  },
  {
   "cell_type": "code",
   "execution_count": 19,
   "id": "9ccb22e9",
   "metadata": {},
   "outputs": [],
   "source": [
    "oneKB_strs = pd.read_csv(\"1000B_strings.csv\")\n",
    "oneKB_strs_tempfs = pd.read_csv(\"1000B_strings_tempfs.csv\")"
   ]
  },
  {
   "cell_type": "code",
   "execution_count": 20,
   "id": "e77e0df6",
   "metadata": {},
   "outputs": [
    {
     "data": {
      "text/html": [
       "<div>\n",
       "<style scoped>\n",
       "    .dataframe tbody tr th:only-of-type {\n",
       "        vertical-align: middle;\n",
       "    }\n",
       "\n",
       "    .dataframe tbody tr th {\n",
       "        vertical-align: top;\n",
       "    }\n",
       "\n",
       "    .dataframe thead th {\n",
       "        text-align: right;\n",
       "    }\n",
       "</style>\n",
       "<table border=\"1\" class=\"dataframe\">\n",
       "  <thead>\n",
       "    <tr style=\"text-align: right;\">\n",
       "      <th></th>\n",
       "      <th>keys</th>\n",
       "      <th>value_size</th>\n",
       "      <th>num_threads</th>\n",
       "      <th>rdbcompression</th>\n",
       "      <th>rdbchecksum</th>\n",
       "      <th>valkey_data_throughput_mb_s</th>\n",
       "      <th>actual_throughput_mb_s</th>\n",
       "      <th>rdb_file_size_bytes</th>\n",
       "      <th>status</th>\n",
       "      <th>port</th>\n",
       "      <th>save_duration_seconds</th>\n",
       "      <th>cpu_utilization_percent</th>\n",
       "      <th>cpu_total_time_seconds</th>\n",
       "      <th>io_read_bytes</th>\n",
       "      <th>io_write_bytes</th>\n",
       "      <th>memory_rss_bytes</th>\n",
       "      <th>context_switches_voluntary</th>\n",
       "      <th>context_switches_involuntary</th>\n",
       "      <th>iowait_time_seconds</th>\n",
       "      <th>iowait_percentage</th>\n",
       "    </tr>\n",
       "  </thead>\n",
       "  <tbody>\n",
       "    <tr>\n",
       "      <th>0</th>\n",
       "      <td>10000000</td>\n",
       "      <td>1000</td>\n",
       "      <td>1</td>\n",
       "      <td>yes</td>\n",
       "      <td>yes</td>\n",
       "      <td>0</td>\n",
       "      <td>120.261253</td>\n",
       "      <td>10130117163</td>\n",
       "      <td>ok</td>\n",
       "      <td>7000</td>\n",
       "      <td>84.234256</td>\n",
       "      <td>101.656979</td>\n",
       "      <td>85.63</td>\n",
       "      <td>0</td>\n",
       "      <td>10130128896</td>\n",
       "      <td>11162882048</td>\n",
       "      <td>36</td>\n",
       "      <td>299</td>\n",
       "      <td>0.03</td>\n",
       "      <td>0.035615</td>\n",
       "    </tr>\n",
       "    <tr>\n",
       "      <th>1</th>\n",
       "      <td>10000000</td>\n",
       "      <td>1000</td>\n",
       "      <td>2</td>\n",
       "      <td>yes</td>\n",
       "      <td>yes</td>\n",
       "      <td>0</td>\n",
       "      <td>271.660810</td>\n",
       "      <td>10130339228</td>\n",
       "      <td>ok</td>\n",
       "      <td>7000</td>\n",
       "      <td>37.290396</td>\n",
       "      <td>197.852551</td>\n",
       "      <td>73.78</td>\n",
       "      <td>0</td>\n",
       "      <td>10130345984</td>\n",
       "      <td>11165560832</td>\n",
       "      <td>1784</td>\n",
       "      <td>78</td>\n",
       "      <td>0.03</td>\n",
       "      <td>0.080450</td>\n",
       "    </tr>\n",
       "    <tr>\n",
       "      <th>2</th>\n",
       "      <td>10000000</td>\n",
       "      <td>1000</td>\n",
       "      <td>3</td>\n",
       "      <td>yes</td>\n",
       "      <td>yes</td>\n",
       "      <td>0</td>\n",
       "      <td>344.624301</td>\n",
       "      <td>10130339251</td>\n",
       "      <td>ok</td>\n",
       "      <td>7000</td>\n",
       "      <td>29.395313</td>\n",
       "      <td>295.965549</td>\n",
       "      <td>87.00</td>\n",
       "      <td>0</td>\n",
       "      <td>10130341888</td>\n",
       "      <td>11166756864</td>\n",
       "      <td>694</td>\n",
       "      <td>78</td>\n",
       "      <td>0.04</td>\n",
       "      <td>0.136076</td>\n",
       "    </tr>\n",
       "    <tr>\n",
       "      <th>3</th>\n",
       "      <td>10000000</td>\n",
       "      <td>1000</td>\n",
       "      <td>4</td>\n",
       "      <td>yes</td>\n",
       "      <td>yes</td>\n",
       "      <td>0</td>\n",
       "      <td>473.622354</td>\n",
       "      <td>10130339272</td>\n",
       "      <td>ok</td>\n",
       "      <td>7000</td>\n",
       "      <td>21.389065</td>\n",
       "      <td>375.986516</td>\n",
       "      <td>80.42</td>\n",
       "      <td>0</td>\n",
       "      <td>10130345984</td>\n",
       "      <td>11167985664</td>\n",
       "      <td>1929</td>\n",
       "      <td>49</td>\n",
       "      <td>0.03</td>\n",
       "      <td>0.140259</td>\n",
       "    </tr>\n",
       "    <tr>\n",
       "      <th>4</th>\n",
       "      <td>10000000</td>\n",
       "      <td>1000</td>\n",
       "      <td>5</td>\n",
       "      <td>yes</td>\n",
       "      <td>yes</td>\n",
       "      <td>0</td>\n",
       "      <td>630.010376</td>\n",
       "      <td>10130339297</td>\n",
       "      <td>ok</td>\n",
       "      <td>7000</td>\n",
       "      <td>16.079639</td>\n",
       "      <td>494.040948</td>\n",
       "      <td>79.44</td>\n",
       "      <td>0</td>\n",
       "      <td>10130341888</td>\n",
       "      <td>11169239040</td>\n",
       "      <td>1326</td>\n",
       "      <td>40</td>\n",
       "      <td>0.08</td>\n",
       "      <td>0.497524</td>\n",
       "    </tr>\n",
       "    <tr>\n",
       "      <th>5</th>\n",
       "      <td>10000000</td>\n",
       "      <td>1000</td>\n",
       "      <td>6</td>\n",
       "      <td>yes</td>\n",
       "      <td>yes</td>\n",
       "      <td>0</td>\n",
       "      <td>755.044649</td>\n",
       "      <td>10130339272</td>\n",
       "      <td>ok</td>\n",
       "      <td>7000</td>\n",
       "      <td>13.416874</td>\n",
       "      <td>571.519099</td>\n",
       "      <td>76.68</td>\n",
       "      <td>0</td>\n",
       "      <td>10130341888</td>\n",
       "      <td>11170512896</td>\n",
       "      <td>2664</td>\n",
       "      <td>580</td>\n",
       "      <td>0.47</td>\n",
       "      <td>3.503051</td>\n",
       "    </tr>\n",
       "    <tr>\n",
       "      <th>6</th>\n",
       "      <td>10000000</td>\n",
       "      <td>1000</td>\n",
       "      <td>7</td>\n",
       "      <td>yes</td>\n",
       "      <td>yes</td>\n",
       "      <td>0</td>\n",
       "      <td>753.665963</td>\n",
       "      <td>10130339274</td>\n",
       "      <td>ok</td>\n",
       "      <td>7000</td>\n",
       "      <td>13.441418</td>\n",
       "      <td>556.860889</td>\n",
       "      <td>74.85</td>\n",
       "      <td>0</td>\n",
       "      <td>10130345984</td>\n",
       "      <td>11164057600</td>\n",
       "      <td>7518</td>\n",
       "      <td>775</td>\n",
       "      <td>2.41</td>\n",
       "      <td>17.929656</td>\n",
       "    </tr>\n",
       "    <tr>\n",
       "      <th>7</th>\n",
       "      <td>10000000</td>\n",
       "      <td>1000</td>\n",
       "      <td>8</td>\n",
       "      <td>yes</td>\n",
       "      <td>yes</td>\n",
       "      <td>0</td>\n",
       "      <td>755.011887</td>\n",
       "      <td>10130339320</td>\n",
       "      <td>ok</td>\n",
       "      <td>7000</td>\n",
       "      <td>13.417457</td>\n",
       "      <td>556.513813</td>\n",
       "      <td>74.67</td>\n",
       "      <td>0</td>\n",
       "      <td>10130341888</td>\n",
       "      <td>11165319168</td>\n",
       "      <td>6480</td>\n",
       "      <td>740</td>\n",
       "      <td>2.37</td>\n",
       "      <td>17.663556</td>\n",
       "    </tr>\n",
       "    <tr>\n",
       "      <th>8</th>\n",
       "      <td>10000000</td>\n",
       "      <td>1000</td>\n",
       "      <td>9</td>\n",
       "      <td>yes</td>\n",
       "      <td>yes</td>\n",
       "      <td>0</td>\n",
       "      <td>754.786869</td>\n",
       "      <td>10130339320</td>\n",
       "      <td>ok</td>\n",
       "      <td>7000</td>\n",
       "      <td>13.421457</td>\n",
       "      <td>559.402764</td>\n",
       "      <td>75.08</td>\n",
       "      <td>0</td>\n",
       "      <td>10130341888</td>\n",
       "      <td>11166621696</td>\n",
       "      <td>4587</td>\n",
       "      <td>253</td>\n",
       "      <td>2.21</td>\n",
       "      <td>16.466171</td>\n",
       "    </tr>\n",
       "    <tr>\n",
       "      <th>9</th>\n",
       "      <td>10000000</td>\n",
       "      <td>1000</td>\n",
       "      <td>10</td>\n",
       "      <td>yes</td>\n",
       "      <td>yes</td>\n",
       "      <td>0</td>\n",
       "      <td>755.245874</td>\n",
       "      <td>10130339341</td>\n",
       "      <td>ok</td>\n",
       "      <td>7000</td>\n",
       "      <td>13.413300</td>\n",
       "      <td>550.871158</td>\n",
       "      <td>73.89</td>\n",
       "      <td>0</td>\n",
       "      <td>10130345984</td>\n",
       "      <td>11165622272</td>\n",
       "      <td>3919</td>\n",
       "      <td>591</td>\n",
       "      <td>2.25</td>\n",
       "      <td>16.774396</td>\n",
       "    </tr>\n",
       "    <tr>\n",
       "      <th>10</th>\n",
       "      <td>10000000</td>\n",
       "      <td>1000</td>\n",
       "      <td>12</td>\n",
       "      <td>yes</td>\n",
       "      <td>yes</td>\n",
       "      <td>0</td>\n",
       "      <td>753.872399</td>\n",
       "      <td>10130339320</td>\n",
       "      <td>ok</td>\n",
       "      <td>7000</td>\n",
       "      <td>13.437737</td>\n",
       "      <td>584.250143</td>\n",
       "      <td>78.51</td>\n",
       "      <td>0</td>\n",
       "      <td>10130341888</td>\n",
       "      <td>11168976896</td>\n",
       "      <td>4610</td>\n",
       "      <td>532</td>\n",
       "      <td>2.02</td>\n",
       "      <td>15.032293</td>\n",
       "    </tr>\n",
       "    <tr>\n",
       "      <th>11</th>\n",
       "      <td>10000000</td>\n",
       "      <td>1000</td>\n",
       "      <td>14</td>\n",
       "      <td>yes</td>\n",
       "      <td>yes</td>\n",
       "      <td>0</td>\n",
       "      <td>755.330124</td>\n",
       "      <td>10130339410</td>\n",
       "      <td>ok</td>\n",
       "      <td>7000</td>\n",
       "      <td>13.411804</td>\n",
       "      <td>591.046524</td>\n",
       "      <td>79.27</td>\n",
       "      <td>0</td>\n",
       "      <td>10130341888</td>\n",
       "      <td>11172483072</td>\n",
       "      <td>3679</td>\n",
       "      <td>149</td>\n",
       "      <td>2.10</td>\n",
       "      <td>15.657849</td>\n",
       "    </tr>\n",
       "    <tr>\n",
       "      <th>12</th>\n",
       "      <td>10000000</td>\n",
       "      <td>1000</td>\n",
       "      <td>16</td>\n",
       "      <td>yes</td>\n",
       "      <td>yes</td>\n",
       "      <td>0</td>\n",
       "      <td>755.016250</td>\n",
       "      <td>10130339412</td>\n",
       "      <td>ok</td>\n",
       "      <td>7000</td>\n",
       "      <td>13.417379</td>\n",
       "      <td>576.938299</td>\n",
       "      <td>77.41</td>\n",
       "      <td>0</td>\n",
       "      <td>10130345984</td>\n",
       "      <td>11175170048</td>\n",
       "      <td>4715</td>\n",
       "      <td>160</td>\n",
       "      <td>2.09</td>\n",
       "      <td>15.576812</td>\n",
       "    </tr>\n",
       "    <tr>\n",
       "      <th>13</th>\n",
       "      <td>10000000</td>\n",
       "      <td>1000</td>\n",
       "      <td>20</td>\n",
       "      <td>yes</td>\n",
       "      <td>yes</td>\n",
       "      <td>0</td>\n",
       "      <td>755.203211</td>\n",
       "      <td>10130339433</td>\n",
       "      <td>ok</td>\n",
       "      <td>7000</td>\n",
       "      <td>13.414058</td>\n",
       "      <td>586.027001</td>\n",
       "      <td>78.61</td>\n",
       "      <td>0</td>\n",
       "      <td>10130341888</td>\n",
       "      <td>11167596544</td>\n",
       "      <td>2768</td>\n",
       "      <td>324</td>\n",
       "      <td>1.77</td>\n",
       "      <td>13.195112</td>\n",
       "    </tr>\n",
       "    <tr>\n",
       "      <th>14</th>\n",
       "      <td>10000000</td>\n",
       "      <td>1000</td>\n",
       "      <td>25</td>\n",
       "      <td>yes</td>\n",
       "      <td>yes</td>\n",
       "      <td>0</td>\n",
       "      <td>754.154225</td>\n",
       "      <td>10130339504</td>\n",
       "      <td>ok</td>\n",
       "      <td>7000</td>\n",
       "      <td>13.432716</td>\n",
       "      <td>591.913059</td>\n",
       "      <td>79.51</td>\n",
       "      <td>0</td>\n",
       "      <td>10130341888</td>\n",
       "      <td>11170619392</td>\n",
       "      <td>1560</td>\n",
       "      <td>245</td>\n",
       "      <td>1.62</td>\n",
       "      <td>12.060108</td>\n",
       "    </tr>\n",
       "    <tr>\n",
       "      <th>15</th>\n",
       "      <td>10000000</td>\n",
       "      <td>1000</td>\n",
       "      <td>30</td>\n",
       "      <td>yes</td>\n",
       "      <td>yes</td>\n",
       "      <td>0</td>\n",
       "      <td>752.216261</td>\n",
       "      <td>10130339569</td>\n",
       "      <td>ok</td>\n",
       "      <td>7000</td>\n",
       "      <td>13.467323</td>\n",
       "      <td>621.652857</td>\n",
       "      <td>83.72</td>\n",
       "      <td>0</td>\n",
       "      <td>10130345984</td>\n",
       "      <td>11174371328</td>\n",
       "      <td>1134</td>\n",
       "      <td>191</td>\n",
       "      <td>1.49</td>\n",
       "      <td>11.063817</td>\n",
       "    </tr>\n",
       "  </tbody>\n",
       "</table>\n",
       "</div>"
      ],
      "text/plain": [
       "        keys  value_size  num_threads rdbcompression rdbchecksum  \\\n",
       "0   10000000        1000            1            yes         yes   \n",
       "1   10000000        1000            2            yes         yes   \n",
       "2   10000000        1000            3            yes         yes   \n",
       "3   10000000        1000            4            yes         yes   \n",
       "4   10000000        1000            5            yes         yes   \n",
       "5   10000000        1000            6            yes         yes   \n",
       "6   10000000        1000            7            yes         yes   \n",
       "7   10000000        1000            8            yes         yes   \n",
       "8   10000000        1000            9            yes         yes   \n",
       "9   10000000        1000           10            yes         yes   \n",
       "10  10000000        1000           12            yes         yes   \n",
       "11  10000000        1000           14            yes         yes   \n",
       "12  10000000        1000           16            yes         yes   \n",
       "13  10000000        1000           20            yes         yes   \n",
       "14  10000000        1000           25            yes         yes   \n",
       "15  10000000        1000           30            yes         yes   \n",
       "\n",
       "    valkey_data_throughput_mb_s  actual_throughput_mb_s  rdb_file_size_bytes  \\\n",
       "0                             0              120.261253          10130117163   \n",
       "1                             0              271.660810          10130339228   \n",
       "2                             0              344.624301          10130339251   \n",
       "3                             0              473.622354          10130339272   \n",
       "4                             0              630.010376          10130339297   \n",
       "5                             0              755.044649          10130339272   \n",
       "6                             0              753.665963          10130339274   \n",
       "7                             0              755.011887          10130339320   \n",
       "8                             0              754.786869          10130339320   \n",
       "9                             0              755.245874          10130339341   \n",
       "10                            0              753.872399          10130339320   \n",
       "11                            0              755.330124          10130339410   \n",
       "12                            0              755.016250          10130339412   \n",
       "13                            0              755.203211          10130339433   \n",
       "14                            0              754.154225          10130339504   \n",
       "15                            0              752.216261          10130339569   \n",
       "\n",
       "   status  port  save_duration_seconds  cpu_utilization_percent  \\\n",
       "0      ok  7000              84.234256               101.656979   \n",
       "1      ok  7000              37.290396               197.852551   \n",
       "2      ok  7000              29.395313               295.965549   \n",
       "3      ok  7000              21.389065               375.986516   \n",
       "4      ok  7000              16.079639               494.040948   \n",
       "5      ok  7000              13.416874               571.519099   \n",
       "6      ok  7000              13.441418               556.860889   \n",
       "7      ok  7000              13.417457               556.513813   \n",
       "8      ok  7000              13.421457               559.402764   \n",
       "9      ok  7000              13.413300               550.871158   \n",
       "10     ok  7000              13.437737               584.250143   \n",
       "11     ok  7000              13.411804               591.046524   \n",
       "12     ok  7000              13.417379               576.938299   \n",
       "13     ok  7000              13.414058               586.027001   \n",
       "14     ok  7000              13.432716               591.913059   \n",
       "15     ok  7000              13.467323               621.652857   \n",
       "\n",
       "    cpu_total_time_seconds  io_read_bytes  io_write_bytes  memory_rss_bytes  \\\n",
       "0                    85.63              0     10130128896       11162882048   \n",
       "1                    73.78              0     10130345984       11165560832   \n",
       "2                    87.00              0     10130341888       11166756864   \n",
       "3                    80.42              0     10130345984       11167985664   \n",
       "4                    79.44              0     10130341888       11169239040   \n",
       "5                    76.68              0     10130341888       11170512896   \n",
       "6                    74.85              0     10130345984       11164057600   \n",
       "7                    74.67              0     10130341888       11165319168   \n",
       "8                    75.08              0     10130341888       11166621696   \n",
       "9                    73.89              0     10130345984       11165622272   \n",
       "10                   78.51              0     10130341888       11168976896   \n",
       "11                   79.27              0     10130341888       11172483072   \n",
       "12                   77.41              0     10130345984       11175170048   \n",
       "13                   78.61              0     10130341888       11167596544   \n",
       "14                   79.51              0     10130341888       11170619392   \n",
       "15                   83.72              0     10130345984       11174371328   \n",
       "\n",
       "    context_switches_voluntary  context_switches_involuntary  \\\n",
       "0                           36                           299   \n",
       "1                         1784                            78   \n",
       "2                          694                            78   \n",
       "3                         1929                            49   \n",
       "4                         1326                            40   \n",
       "5                         2664                           580   \n",
       "6                         7518                           775   \n",
       "7                         6480                           740   \n",
       "8                         4587                           253   \n",
       "9                         3919                           591   \n",
       "10                        4610                           532   \n",
       "11                        3679                           149   \n",
       "12                        4715                           160   \n",
       "13                        2768                           324   \n",
       "14                        1560                           245   \n",
       "15                        1134                           191   \n",
       "\n",
       "    iowait_time_seconds  iowait_percentage  \n",
       "0                  0.03           0.035615  \n",
       "1                  0.03           0.080450  \n",
       "2                  0.04           0.136076  \n",
       "3                  0.03           0.140259  \n",
       "4                  0.08           0.497524  \n",
       "5                  0.47           3.503051  \n",
       "6                  2.41          17.929656  \n",
       "7                  2.37          17.663556  \n",
       "8                  2.21          16.466171  \n",
       "9                  2.25          16.774396  \n",
       "10                 2.02          15.032293  \n",
       "11                 2.10          15.657849  \n",
       "12                 2.09          15.576812  \n",
       "13                 1.77          13.195112  \n",
       "14                 1.62          12.060108  \n",
       "15                 1.49          11.063817  "
      ]
     },
     "execution_count": 20,
     "metadata": {},
     "output_type": "execute_result"
    }
   ],
   "source": [
    "oneKB_strs"
   ]
  },
  {
   "cell_type": "code",
   "execution_count": 29,
   "id": "5854ef7e",
   "metadata": {},
   "outputs": [],
   "source": [
    "import pandas as pd\n",
    "import plotly.graph_objects as go\n",
    "from plotly.subplots import make_subplots\n",
    "import plotly.express as px # For distinct colors and markers\n",
    "\n",
    "def plot_performance_by_workload_on_threads(dfs: list[pd.DataFrame], workload_names: list[str], title: str):\n",
    "    \"\"\"\n",
    "    Generates an interactive Plotly graph showing speedup and efficiency\n",
    "    vs. number of threads, with each line representing a different workload.\n",
    "\n",
    "    Args:\n",
    "        dfs (list[pd.DataFrame]): A list of DataFrames, where each DataFrame\n",
    "                                   contains 'num_threads', 'value_size', 'speedup',\n",
    "                                   and 'efficiency' columns for a specific workload.\n",
    "                                   It's assumed 'speedup' and 'efficiency' have\n",
    "                                   already been calculated for each df.\n",
    "        workload_names (list[str]): A list of descriptive names for each workload,\n",
    "                                     used for legend labels (e.g., [\"50 Bytes\", \"500 Bytes\"]).\n",
    "                                     Length must match dfs.\n",
    "    \"\"\"\n",
    "    if not dfs or not workload_names or len(dfs) != len(workload_names):\n",
    "        print(\"Error: Input lists 'dfs' and 'workload_names' must not be empty and must have matching lengths.\")\n",
    "        return\n",
    "\n",
    "    # Define fixed y-axis ranges for consistent comparison across all your plots\n",
    "    # Adjust these ranges based on the MIN and MAX values you expect across ALL your datasets.\n",
    "    maxes = [max(df[\"actual_throughput_mb_s\"]) for df in dfs]\n",
    "    max_throughput = max(maxes)\n",
    "    speedup_y_range = [0.0, max_throughput + 250]  # Example: from 0x to 5x speedup\n",
    "\n",
    "    # Get all unique thread counts across all DFs for x-axis ticks\n",
    "    all_num_threads = sorted(pd.concat(df['num_threads'] for df in dfs).unique())\n",
    "\n",
    "    # --- Color and Marker Definition ---\n",
    "    colors = px.colors.qualitative.Plotly # A good default palette\n",
    "    markers = ['circle', 'square', 'diamond', 'cross', 'x', 'triangle-up', 'triangle-down', 'pentagon', 'hexagram']\n",
    "    # --- End Color and Marker Definition ---\n",
    "\n",
    "    # Create subplots: one for Speedup, one for Efficiency\n",
    "    fig = make_subplots(rows=1, cols=1,\n",
    "                        subplot_titles=())\n",
    "\n",
    "    # Plot Speedup for each workload\n",
    "    for i, df in enumerate(dfs):\n",
    "        workload_label = workload_names[i]\n",
    "        color = colors[i % len(colors)]\n",
    "        marker = markers[i % len(markers)]\n",
    "\n",
    "        fig.add_trace(\n",
    "            go.Scatter(\n",
    "                x=df['num_threads'],\n",
    "                y=df['actual_throughput_mb_s'],\n",
    "                mode='lines+markers',\n",
    "                name=f'Throughput: {workload_label}',\n",
    "                marker=dict(symbol=marker, size=8),\n",
    "                line=dict(width=2, color=color),\n",
    "                legendgroup=workload_label, # Group traces for consistent legend\n",
    "                showlegend=True\n",
    "            ),\n",
    "            row=1, col=1\n",
    "        )\n",
    "\n",
    "    # Update layout for a beautiful graph\n",
    "    fig.update_layout(\n",
    "        title_text=title,\n",
    "        height=600, width=1200,\n",
    "        showlegend=True,\n",
    "        hovermode=\"x unified\",\n",
    "        template=\"plotly_white\",\n",
    "        title_x=0.5,\n",
    "    )\n",
    "\n",
    "    # Update x-axes for clarity\n",
    "    fig.update_xaxes(\n",
    "        title_text='Number of Threads',\n",
    "        tickmode='array',\n",
    "        tickvals=all_num_threads,\n",
    "        row=1, col=1\n",
    "    )\n",
    "\n",
    "    # Update y-axes for clarity and consistent ranges\n",
    "    fig.update_yaxes(title_text='Throughput (MB/s)', range=speedup_y_range, row=1, col=1)\n",
    "\n",
    "    fig.show()\n",
    "    # fig.write_html(output_filename)\n",
    "    # You can also save it as an HTML file for interactive viewing later:\n",
    "    # fig.write_html(f\"performance_scaling_across_workloads.html\")"
   ]
  },
  {
   "cell_type": "code",
   "execution_count": 30,
   "id": "61a9a7a6",
   "metadata": {},
   "outputs": [
    {
     "data": {
      "application/vnd.plotly.v1+json": {
       "config": {
        "plotlyServerURL": "https://plot.ly"
       },
       "data": [
        {
         "legendgroup": "Saving to SSD File System",
         "line": {
          "color": "#636EFA",
          "width": 2
         },
         "marker": {
          "size": 8,
          "symbol": "circle"
         },
         "mode": "lines+markers",
         "name": "Throughput: Saving to SSD File System",
         "showlegend": true,
         "type": "scatter",
         "x": {
          "bdata": "AQIDBAUGBwgJCgwOEBQZHg==",
          "dtype": "i1"
         },
         "xaxis": "x",
         "y": {
          "bdata": "mcF2XrgQXkB8BCqtkvpwQDry/SL9iXVAsguDKfWZfUBMNQ1AFbCDQHMxB3FbmIdA9CF95FONh0AQvWtYGJiHQBLWAIJLlodAQIyZjPeZh0CHIBys+o6HQD5BOxikmodA1nSkRyGYh0Bd0NcsoJmHQG3qVdo7kYdAImnq5rqBh0A=",
          "dtype": "f8"
         },
         "yaxis": "y"
        },
        {
         "legendgroup": "Saving to in Memory File System",
         "line": {
          "color": "#EF553B",
          "width": 2
         },
         "marker": {
          "size": 8,
          "symbol": "square"
         },
         "mode": "lines+markers",
         "name": "Throughput: Saving to in Memory File System",
         "showlegend": true,
         "type": "scatter",
         "x": {
          "bdata": "AQIDBAUGBwgJCgwOEBQZHg==",
          "dtype": "i1"
         },
         "xaxis": "x",
         "y": {
          "bdata": "cFAKtbYTYED7Z2GhvINyQBTZ4emEcHhAIk4YsbopgECkCZ27dk2EQMpQQfGfEYpASrmyRUV+j0BC94SWtLWRQEuuvDAJCZRAS/kkTCWMlkCbBfxibdOZQFKJLJLSFplAla6cVls3mUAm/h3iHxGZQEX4RiC7A5dAOvfIoFM4l0A=",
          "dtype": "f8"
         },
         "yaxis": "y"
        }
       ],
       "layout": {
        "height": 600,
        "hovermode": "x unified",
        "showlegend": true,
        "template": {
         "data": {
          "bar": [
           {
            "error_x": {
             "color": "#2a3f5f"
            },
            "error_y": {
             "color": "#2a3f5f"
            },
            "marker": {
             "line": {
              "color": "white",
              "width": 0.5
             },
             "pattern": {
              "fillmode": "overlay",
              "size": 10,
              "solidity": 0.2
             }
            },
            "type": "bar"
           }
          ],
          "barpolar": [
           {
            "marker": {
             "line": {
              "color": "white",
              "width": 0.5
             },
             "pattern": {
              "fillmode": "overlay",
              "size": 10,
              "solidity": 0.2
             }
            },
            "type": "barpolar"
           }
          ],
          "carpet": [
           {
            "aaxis": {
             "endlinecolor": "#2a3f5f",
             "gridcolor": "#C8D4E3",
             "linecolor": "#C8D4E3",
             "minorgridcolor": "#C8D4E3",
             "startlinecolor": "#2a3f5f"
            },
            "baxis": {
             "endlinecolor": "#2a3f5f",
             "gridcolor": "#C8D4E3",
             "linecolor": "#C8D4E3",
             "minorgridcolor": "#C8D4E3",
             "startlinecolor": "#2a3f5f"
            },
            "type": "carpet"
           }
          ],
          "choropleth": [
           {
            "colorbar": {
             "outlinewidth": 0,
             "ticks": ""
            },
            "type": "choropleth"
           }
          ],
          "contour": [
           {
            "colorbar": {
             "outlinewidth": 0,
             "ticks": ""
            },
            "colorscale": [
             [
              0,
              "#0d0887"
             ],
             [
              0.1111111111111111,
              "#46039f"
             ],
             [
              0.2222222222222222,
              "#7201a8"
             ],
             [
              0.3333333333333333,
              "#9c179e"
             ],
             [
              0.4444444444444444,
              "#bd3786"
             ],
             [
              0.5555555555555556,
              "#d8576b"
             ],
             [
              0.6666666666666666,
              "#ed7953"
             ],
             [
              0.7777777777777778,
              "#fb9f3a"
             ],
             [
              0.8888888888888888,
              "#fdca26"
             ],
             [
              1,
              "#f0f921"
             ]
            ],
            "type": "contour"
           }
          ],
          "contourcarpet": [
           {
            "colorbar": {
             "outlinewidth": 0,
             "ticks": ""
            },
            "type": "contourcarpet"
           }
          ],
          "heatmap": [
           {
            "colorbar": {
             "outlinewidth": 0,
             "ticks": ""
            },
            "colorscale": [
             [
              0,
              "#0d0887"
             ],
             [
              0.1111111111111111,
              "#46039f"
             ],
             [
              0.2222222222222222,
              "#7201a8"
             ],
             [
              0.3333333333333333,
              "#9c179e"
             ],
             [
              0.4444444444444444,
              "#bd3786"
             ],
             [
              0.5555555555555556,
              "#d8576b"
             ],
             [
              0.6666666666666666,
              "#ed7953"
             ],
             [
              0.7777777777777778,
              "#fb9f3a"
             ],
             [
              0.8888888888888888,
              "#fdca26"
             ],
             [
              1,
              "#f0f921"
             ]
            ],
            "type": "heatmap"
           }
          ],
          "histogram": [
           {
            "marker": {
             "pattern": {
              "fillmode": "overlay",
              "size": 10,
              "solidity": 0.2
             }
            },
            "type": "histogram"
           }
          ],
          "histogram2d": [
           {
            "colorbar": {
             "outlinewidth": 0,
             "ticks": ""
            },
            "colorscale": [
             [
              0,
              "#0d0887"
             ],
             [
              0.1111111111111111,
              "#46039f"
             ],
             [
              0.2222222222222222,
              "#7201a8"
             ],
             [
              0.3333333333333333,
              "#9c179e"
             ],
             [
              0.4444444444444444,
              "#bd3786"
             ],
             [
              0.5555555555555556,
              "#d8576b"
             ],
             [
              0.6666666666666666,
              "#ed7953"
             ],
             [
              0.7777777777777778,
              "#fb9f3a"
             ],
             [
              0.8888888888888888,
              "#fdca26"
             ],
             [
              1,
              "#f0f921"
             ]
            ],
            "type": "histogram2d"
           }
          ],
          "histogram2dcontour": [
           {
            "colorbar": {
             "outlinewidth": 0,
             "ticks": ""
            },
            "colorscale": [
             [
              0,
              "#0d0887"
             ],
             [
              0.1111111111111111,
              "#46039f"
             ],
             [
              0.2222222222222222,
              "#7201a8"
             ],
             [
              0.3333333333333333,
              "#9c179e"
             ],
             [
              0.4444444444444444,
              "#bd3786"
             ],
             [
              0.5555555555555556,
              "#d8576b"
             ],
             [
              0.6666666666666666,
              "#ed7953"
             ],
             [
              0.7777777777777778,
              "#fb9f3a"
             ],
             [
              0.8888888888888888,
              "#fdca26"
             ],
             [
              1,
              "#f0f921"
             ]
            ],
            "type": "histogram2dcontour"
           }
          ],
          "mesh3d": [
           {
            "colorbar": {
             "outlinewidth": 0,
             "ticks": ""
            },
            "type": "mesh3d"
           }
          ],
          "parcoords": [
           {
            "line": {
             "colorbar": {
              "outlinewidth": 0,
              "ticks": ""
             }
            },
            "type": "parcoords"
           }
          ],
          "pie": [
           {
            "automargin": true,
            "type": "pie"
           }
          ],
          "scatter": [
           {
            "fillpattern": {
             "fillmode": "overlay",
             "size": 10,
             "solidity": 0.2
            },
            "type": "scatter"
           }
          ],
          "scatter3d": [
           {
            "line": {
             "colorbar": {
              "outlinewidth": 0,
              "ticks": ""
             }
            },
            "marker": {
             "colorbar": {
              "outlinewidth": 0,
              "ticks": ""
             }
            },
            "type": "scatter3d"
           }
          ],
          "scattercarpet": [
           {
            "marker": {
             "colorbar": {
              "outlinewidth": 0,
              "ticks": ""
             }
            },
            "type": "scattercarpet"
           }
          ],
          "scattergeo": [
           {
            "marker": {
             "colorbar": {
              "outlinewidth": 0,
              "ticks": ""
             }
            },
            "type": "scattergeo"
           }
          ],
          "scattergl": [
           {
            "marker": {
             "colorbar": {
              "outlinewidth": 0,
              "ticks": ""
             }
            },
            "type": "scattergl"
           }
          ],
          "scattermap": [
           {
            "marker": {
             "colorbar": {
              "outlinewidth": 0,
              "ticks": ""
             }
            },
            "type": "scattermap"
           }
          ],
          "scattermapbox": [
           {
            "marker": {
             "colorbar": {
              "outlinewidth": 0,
              "ticks": ""
             }
            },
            "type": "scattermapbox"
           }
          ],
          "scatterpolar": [
           {
            "marker": {
             "colorbar": {
              "outlinewidth": 0,
              "ticks": ""
             }
            },
            "type": "scatterpolar"
           }
          ],
          "scatterpolargl": [
           {
            "marker": {
             "colorbar": {
              "outlinewidth": 0,
              "ticks": ""
             }
            },
            "type": "scatterpolargl"
           }
          ],
          "scatterternary": [
           {
            "marker": {
             "colorbar": {
              "outlinewidth": 0,
              "ticks": ""
             }
            },
            "type": "scatterternary"
           }
          ],
          "surface": [
           {
            "colorbar": {
             "outlinewidth": 0,
             "ticks": ""
            },
            "colorscale": [
             [
              0,
              "#0d0887"
             ],
             [
              0.1111111111111111,
              "#46039f"
             ],
             [
              0.2222222222222222,
              "#7201a8"
             ],
             [
              0.3333333333333333,
              "#9c179e"
             ],
             [
              0.4444444444444444,
              "#bd3786"
             ],
             [
              0.5555555555555556,
              "#d8576b"
             ],
             [
              0.6666666666666666,
              "#ed7953"
             ],
             [
              0.7777777777777778,
              "#fb9f3a"
             ],
             [
              0.8888888888888888,
              "#fdca26"
             ],
             [
              1,
              "#f0f921"
             ]
            ],
            "type": "surface"
           }
          ],
          "table": [
           {
            "cells": {
             "fill": {
              "color": "#EBF0F8"
             },
             "line": {
              "color": "white"
             }
            },
            "header": {
             "fill": {
              "color": "#C8D4E3"
             },
             "line": {
              "color": "white"
             }
            },
            "type": "table"
           }
          ]
         },
         "layout": {
          "annotationdefaults": {
           "arrowcolor": "#2a3f5f",
           "arrowhead": 0,
           "arrowwidth": 1
          },
          "autotypenumbers": "strict",
          "coloraxis": {
           "colorbar": {
            "outlinewidth": 0,
            "ticks": ""
           }
          },
          "colorscale": {
           "diverging": [
            [
             0,
             "#8e0152"
            ],
            [
             0.1,
             "#c51b7d"
            ],
            [
             0.2,
             "#de77ae"
            ],
            [
             0.3,
             "#f1b6da"
            ],
            [
             0.4,
             "#fde0ef"
            ],
            [
             0.5,
             "#f7f7f7"
            ],
            [
             0.6,
             "#e6f5d0"
            ],
            [
             0.7,
             "#b8e186"
            ],
            [
             0.8,
             "#7fbc41"
            ],
            [
             0.9,
             "#4d9221"
            ],
            [
             1,
             "#276419"
            ]
           ],
           "sequential": [
            [
             0,
             "#0d0887"
            ],
            [
             0.1111111111111111,
             "#46039f"
            ],
            [
             0.2222222222222222,
             "#7201a8"
            ],
            [
             0.3333333333333333,
             "#9c179e"
            ],
            [
             0.4444444444444444,
             "#bd3786"
            ],
            [
             0.5555555555555556,
             "#d8576b"
            ],
            [
             0.6666666666666666,
             "#ed7953"
            ],
            [
             0.7777777777777778,
             "#fb9f3a"
            ],
            [
             0.8888888888888888,
             "#fdca26"
            ],
            [
             1,
             "#f0f921"
            ]
           ],
           "sequentialminus": [
            [
             0,
             "#0d0887"
            ],
            [
             0.1111111111111111,
             "#46039f"
            ],
            [
             0.2222222222222222,
             "#7201a8"
            ],
            [
             0.3333333333333333,
             "#9c179e"
            ],
            [
             0.4444444444444444,
             "#bd3786"
            ],
            [
             0.5555555555555556,
             "#d8576b"
            ],
            [
             0.6666666666666666,
             "#ed7953"
            ],
            [
             0.7777777777777778,
             "#fb9f3a"
            ],
            [
             0.8888888888888888,
             "#fdca26"
            ],
            [
             1,
             "#f0f921"
            ]
           ]
          },
          "colorway": [
           "#636efa",
           "#EF553B",
           "#00cc96",
           "#ab63fa",
           "#FFA15A",
           "#19d3f3",
           "#FF6692",
           "#B6E880",
           "#FF97FF",
           "#FECB52"
          ],
          "font": {
           "color": "#2a3f5f"
          },
          "geo": {
           "bgcolor": "white",
           "lakecolor": "white",
           "landcolor": "white",
           "showlakes": true,
           "showland": true,
           "subunitcolor": "#C8D4E3"
          },
          "hoverlabel": {
           "align": "left"
          },
          "hovermode": "closest",
          "mapbox": {
           "style": "light"
          },
          "paper_bgcolor": "white",
          "plot_bgcolor": "white",
          "polar": {
           "angularaxis": {
            "gridcolor": "#EBF0F8",
            "linecolor": "#EBF0F8",
            "ticks": ""
           },
           "bgcolor": "white",
           "radialaxis": {
            "gridcolor": "#EBF0F8",
            "linecolor": "#EBF0F8",
            "ticks": ""
           }
          },
          "scene": {
           "xaxis": {
            "backgroundcolor": "white",
            "gridcolor": "#DFE8F3",
            "gridwidth": 2,
            "linecolor": "#EBF0F8",
            "showbackground": true,
            "ticks": "",
            "zerolinecolor": "#EBF0F8"
           },
           "yaxis": {
            "backgroundcolor": "white",
            "gridcolor": "#DFE8F3",
            "gridwidth": 2,
            "linecolor": "#EBF0F8",
            "showbackground": true,
            "ticks": "",
            "zerolinecolor": "#EBF0F8"
           },
           "zaxis": {
            "backgroundcolor": "white",
            "gridcolor": "#DFE8F3",
            "gridwidth": 2,
            "linecolor": "#EBF0F8",
            "showbackground": true,
            "ticks": "",
            "zerolinecolor": "#EBF0F8"
           }
          },
          "shapedefaults": {
           "line": {
            "color": "#2a3f5f"
           }
          },
          "ternary": {
           "aaxis": {
            "gridcolor": "#DFE8F3",
            "linecolor": "#A2B1C6",
            "ticks": ""
           },
           "baxis": {
            "gridcolor": "#DFE8F3",
            "linecolor": "#A2B1C6",
            "ticks": ""
           },
           "bgcolor": "white",
           "caxis": {
            "gridcolor": "#DFE8F3",
            "linecolor": "#A2B1C6",
            "ticks": ""
           }
          },
          "title": {
           "x": 0.05
          },
          "xaxis": {
           "automargin": true,
           "gridcolor": "#EBF0F8",
           "linecolor": "#EBF0F8",
           "ticks": "",
           "title": {
            "standoff": 15
           },
           "zerolinecolor": "#EBF0F8",
           "zerolinewidth": 2
          },
          "yaxis": {
           "automargin": true,
           "gridcolor": "#EBF0F8",
           "linecolor": "#EBF0F8",
           "ticks": "",
           "title": {
            "standoff": 15
           },
           "zerolinecolor": "#EBF0F8",
           "zerolinewidth": 2
          }
         }
        },
        "title": {
         "text": "Save Throughput (MB/s) Vs. Num Threads when saving to different file systems",
         "x": 0.5
        },
        "width": 1200,
        "xaxis": {
         "anchor": "y",
         "domain": [
          0,
          1
         ],
         "tickmode": "array",
         "tickvals": [
          1,
          2,
          3,
          4,
          5,
          6,
          7,
          8,
          9,
          10,
          12,
          14,
          16,
          20,
          25,
          30
         ],
         "title": {
          "text": "Number of Threads"
         }
        },
        "yaxis": {
         "anchor": "x",
         "domain": [
          0,
          1
         ],
         "range": [
          0,
          1902.856822908251
         ],
         "title": {
          "text": "Throughput (MB/s)"
         }
        }
       }
      }
     },
     "metadata": {},
     "output_type": "display_data"
    }
   ],
   "source": [
    "plot_performance_by_workload_on_threads([oneKB_strs, oneKB_strs_tempfs], [\"Saving to SSD File System\", \"Saving to in Memory File System\"], \"Save Throughput (MB/s) Vs. Num Threads when saving to different file systems\")"
   ]
  },
  {
   "cell_type": "code",
   "execution_count": 31,
   "id": "3cdab247",
   "metadata": {},
   "outputs": [
    {
     "data": {
      "application/vnd.plotly.v1+json": {
       "config": {
        "plotlyServerURL": "https://plot.ly"
       },
       "data": [
        {
         "legendgroup": "Loading from SSD",
         "line": {
          "color": "#636EFA",
          "width": 2
         },
         "marker": {
          "size": 8,
          "symbol": "circle"
         },
         "mode": "lines+markers",
         "name": "Throughput: Loading from SSD",
         "showlegend": true,
         "type": "scatter",
         "x": {
          "bdata": "AQIDBAU=",
          "dtype": "i1"
         },
         "xaxis": "x",
         "y": {
          "bdata": "sU2IWB8pYUCPzNtR03ZvQIU852a/mG9AVoYuIaSTb0CydRWS1lFvQA==",
          "dtype": "f8"
         },
         "yaxis": "y"
        }
       ],
       "layout": {
        "height": 600,
        "hovermode": "x unified",
        "showlegend": true,
        "template": {
         "data": {
          "bar": [
           {
            "error_x": {
             "color": "#2a3f5f"
            },
            "error_y": {
             "color": "#2a3f5f"
            },
            "marker": {
             "line": {
              "color": "white",
              "width": 0.5
             },
             "pattern": {
              "fillmode": "overlay",
              "size": 10,
              "solidity": 0.2
             }
            },
            "type": "bar"
           }
          ],
          "barpolar": [
           {
            "marker": {
             "line": {
              "color": "white",
              "width": 0.5
             },
             "pattern": {
              "fillmode": "overlay",
              "size": 10,
              "solidity": 0.2
             }
            },
            "type": "barpolar"
           }
          ],
          "carpet": [
           {
            "aaxis": {
             "endlinecolor": "#2a3f5f",
             "gridcolor": "#C8D4E3",
             "linecolor": "#C8D4E3",
             "minorgridcolor": "#C8D4E3",
             "startlinecolor": "#2a3f5f"
            },
            "baxis": {
             "endlinecolor": "#2a3f5f",
             "gridcolor": "#C8D4E3",
             "linecolor": "#C8D4E3",
             "minorgridcolor": "#C8D4E3",
             "startlinecolor": "#2a3f5f"
            },
            "type": "carpet"
           }
          ],
          "choropleth": [
           {
            "colorbar": {
             "outlinewidth": 0,
             "ticks": ""
            },
            "type": "choropleth"
           }
          ],
          "contour": [
           {
            "colorbar": {
             "outlinewidth": 0,
             "ticks": ""
            },
            "colorscale": [
             [
              0,
              "#0d0887"
             ],
             [
              0.1111111111111111,
              "#46039f"
             ],
             [
              0.2222222222222222,
              "#7201a8"
             ],
             [
              0.3333333333333333,
              "#9c179e"
             ],
             [
              0.4444444444444444,
              "#bd3786"
             ],
             [
              0.5555555555555556,
              "#d8576b"
             ],
             [
              0.6666666666666666,
              "#ed7953"
             ],
             [
              0.7777777777777778,
              "#fb9f3a"
             ],
             [
              0.8888888888888888,
              "#fdca26"
             ],
             [
              1,
              "#f0f921"
             ]
            ],
            "type": "contour"
           }
          ],
          "contourcarpet": [
           {
            "colorbar": {
             "outlinewidth": 0,
             "ticks": ""
            },
            "type": "contourcarpet"
           }
          ],
          "heatmap": [
           {
            "colorbar": {
             "outlinewidth": 0,
             "ticks": ""
            },
            "colorscale": [
             [
              0,
              "#0d0887"
             ],
             [
              0.1111111111111111,
              "#46039f"
             ],
             [
              0.2222222222222222,
              "#7201a8"
             ],
             [
              0.3333333333333333,
              "#9c179e"
             ],
             [
              0.4444444444444444,
              "#bd3786"
             ],
             [
              0.5555555555555556,
              "#d8576b"
             ],
             [
              0.6666666666666666,
              "#ed7953"
             ],
             [
              0.7777777777777778,
              "#fb9f3a"
             ],
             [
              0.8888888888888888,
              "#fdca26"
             ],
             [
              1,
              "#f0f921"
             ]
            ],
            "type": "heatmap"
           }
          ],
          "histogram": [
           {
            "marker": {
             "pattern": {
              "fillmode": "overlay",
              "size": 10,
              "solidity": 0.2
             }
            },
            "type": "histogram"
           }
          ],
          "histogram2d": [
           {
            "colorbar": {
             "outlinewidth": 0,
             "ticks": ""
            },
            "colorscale": [
             [
              0,
              "#0d0887"
             ],
             [
              0.1111111111111111,
              "#46039f"
             ],
             [
              0.2222222222222222,
              "#7201a8"
             ],
             [
              0.3333333333333333,
              "#9c179e"
             ],
             [
              0.4444444444444444,
              "#bd3786"
             ],
             [
              0.5555555555555556,
              "#d8576b"
             ],
             [
              0.6666666666666666,
              "#ed7953"
             ],
             [
              0.7777777777777778,
              "#fb9f3a"
             ],
             [
              0.8888888888888888,
              "#fdca26"
             ],
             [
              1,
              "#f0f921"
             ]
            ],
            "type": "histogram2d"
           }
          ],
          "histogram2dcontour": [
           {
            "colorbar": {
             "outlinewidth": 0,
             "ticks": ""
            },
            "colorscale": [
             [
              0,
              "#0d0887"
             ],
             [
              0.1111111111111111,
              "#46039f"
             ],
             [
              0.2222222222222222,
              "#7201a8"
             ],
             [
              0.3333333333333333,
              "#9c179e"
             ],
             [
              0.4444444444444444,
              "#bd3786"
             ],
             [
              0.5555555555555556,
              "#d8576b"
             ],
             [
              0.6666666666666666,
              "#ed7953"
             ],
             [
              0.7777777777777778,
              "#fb9f3a"
             ],
             [
              0.8888888888888888,
              "#fdca26"
             ],
             [
              1,
              "#f0f921"
             ]
            ],
            "type": "histogram2dcontour"
           }
          ],
          "mesh3d": [
           {
            "colorbar": {
             "outlinewidth": 0,
             "ticks": ""
            },
            "type": "mesh3d"
           }
          ],
          "parcoords": [
           {
            "line": {
             "colorbar": {
              "outlinewidth": 0,
              "ticks": ""
             }
            },
            "type": "parcoords"
           }
          ],
          "pie": [
           {
            "automargin": true,
            "type": "pie"
           }
          ],
          "scatter": [
           {
            "fillpattern": {
             "fillmode": "overlay",
             "size": 10,
             "solidity": 0.2
            },
            "type": "scatter"
           }
          ],
          "scatter3d": [
           {
            "line": {
             "colorbar": {
              "outlinewidth": 0,
              "ticks": ""
             }
            },
            "marker": {
             "colorbar": {
              "outlinewidth": 0,
              "ticks": ""
             }
            },
            "type": "scatter3d"
           }
          ],
          "scattercarpet": [
           {
            "marker": {
             "colorbar": {
              "outlinewidth": 0,
              "ticks": ""
             }
            },
            "type": "scattercarpet"
           }
          ],
          "scattergeo": [
           {
            "marker": {
             "colorbar": {
              "outlinewidth": 0,
              "ticks": ""
             }
            },
            "type": "scattergeo"
           }
          ],
          "scattergl": [
           {
            "marker": {
             "colorbar": {
              "outlinewidth": 0,
              "ticks": ""
             }
            },
            "type": "scattergl"
           }
          ],
          "scattermap": [
           {
            "marker": {
             "colorbar": {
              "outlinewidth": 0,
              "ticks": ""
             }
            },
            "type": "scattermap"
           }
          ],
          "scattermapbox": [
           {
            "marker": {
             "colorbar": {
              "outlinewidth": 0,
              "ticks": ""
             }
            },
            "type": "scattermapbox"
           }
          ],
          "scatterpolar": [
           {
            "marker": {
             "colorbar": {
              "outlinewidth": 0,
              "ticks": ""
             }
            },
            "type": "scatterpolar"
           }
          ],
          "scatterpolargl": [
           {
            "marker": {
             "colorbar": {
              "outlinewidth": 0,
              "ticks": ""
             }
            },
            "type": "scatterpolargl"
           }
          ],
          "scatterternary": [
           {
            "marker": {
             "colorbar": {
              "outlinewidth": 0,
              "ticks": ""
             }
            },
            "type": "scatterternary"
           }
          ],
          "surface": [
           {
            "colorbar": {
             "outlinewidth": 0,
             "ticks": ""
            },
            "colorscale": [
             [
              0,
              "#0d0887"
             ],
             [
              0.1111111111111111,
              "#46039f"
             ],
             [
              0.2222222222222222,
              "#7201a8"
             ],
             [
              0.3333333333333333,
              "#9c179e"
             ],
             [
              0.4444444444444444,
              "#bd3786"
             ],
             [
              0.5555555555555556,
              "#d8576b"
             ],
             [
              0.6666666666666666,
              "#ed7953"
             ],
             [
              0.7777777777777778,
              "#fb9f3a"
             ],
             [
              0.8888888888888888,
              "#fdca26"
             ],
             [
              1,
              "#f0f921"
             ]
            ],
            "type": "surface"
           }
          ],
          "table": [
           {
            "cells": {
             "fill": {
              "color": "#EBF0F8"
             },
             "line": {
              "color": "white"
             }
            },
            "header": {
             "fill": {
              "color": "#C8D4E3"
             },
             "line": {
              "color": "white"
             }
            },
            "type": "table"
           }
          ]
         },
         "layout": {
          "annotationdefaults": {
           "arrowcolor": "#2a3f5f",
           "arrowhead": 0,
           "arrowwidth": 1
          },
          "autotypenumbers": "strict",
          "coloraxis": {
           "colorbar": {
            "outlinewidth": 0,
            "ticks": ""
           }
          },
          "colorscale": {
           "diverging": [
            [
             0,
             "#8e0152"
            ],
            [
             0.1,
             "#c51b7d"
            ],
            [
             0.2,
             "#de77ae"
            ],
            [
             0.3,
             "#f1b6da"
            ],
            [
             0.4,
             "#fde0ef"
            ],
            [
             0.5,
             "#f7f7f7"
            ],
            [
             0.6,
             "#e6f5d0"
            ],
            [
             0.7,
             "#b8e186"
            ],
            [
             0.8,
             "#7fbc41"
            ],
            [
             0.9,
             "#4d9221"
            ],
            [
             1,
             "#276419"
            ]
           ],
           "sequential": [
            [
             0,
             "#0d0887"
            ],
            [
             0.1111111111111111,
             "#46039f"
            ],
            [
             0.2222222222222222,
             "#7201a8"
            ],
            [
             0.3333333333333333,
             "#9c179e"
            ],
            [
             0.4444444444444444,
             "#bd3786"
            ],
            [
             0.5555555555555556,
             "#d8576b"
            ],
            [
             0.6666666666666666,
             "#ed7953"
            ],
            [
             0.7777777777777778,
             "#fb9f3a"
            ],
            [
             0.8888888888888888,
             "#fdca26"
            ],
            [
             1,
             "#f0f921"
            ]
           ],
           "sequentialminus": [
            [
             0,
             "#0d0887"
            ],
            [
             0.1111111111111111,
             "#46039f"
            ],
            [
             0.2222222222222222,
             "#7201a8"
            ],
            [
             0.3333333333333333,
             "#9c179e"
            ],
            [
             0.4444444444444444,
             "#bd3786"
            ],
            [
             0.5555555555555556,
             "#d8576b"
            ],
            [
             0.6666666666666666,
             "#ed7953"
            ],
            [
             0.7777777777777778,
             "#fb9f3a"
            ],
            [
             0.8888888888888888,
             "#fdca26"
            ],
            [
             1,
             "#f0f921"
            ]
           ]
          },
          "colorway": [
           "#636efa",
           "#EF553B",
           "#00cc96",
           "#ab63fa",
           "#FFA15A",
           "#19d3f3",
           "#FF6692",
           "#B6E880",
           "#FF97FF",
           "#FECB52"
          ],
          "font": {
           "color": "#2a3f5f"
          },
          "geo": {
           "bgcolor": "white",
           "lakecolor": "white",
           "landcolor": "white",
           "showlakes": true,
           "showland": true,
           "subunitcolor": "#C8D4E3"
          },
          "hoverlabel": {
           "align": "left"
          },
          "hovermode": "closest",
          "mapbox": {
           "style": "light"
          },
          "paper_bgcolor": "white",
          "plot_bgcolor": "white",
          "polar": {
           "angularaxis": {
            "gridcolor": "#EBF0F8",
            "linecolor": "#EBF0F8",
            "ticks": ""
           },
           "bgcolor": "white",
           "radialaxis": {
            "gridcolor": "#EBF0F8",
            "linecolor": "#EBF0F8",
            "ticks": ""
           }
          },
          "scene": {
           "xaxis": {
            "backgroundcolor": "white",
            "gridcolor": "#DFE8F3",
            "gridwidth": 2,
            "linecolor": "#EBF0F8",
            "showbackground": true,
            "ticks": "",
            "zerolinecolor": "#EBF0F8"
           },
           "yaxis": {
            "backgroundcolor": "white",
            "gridcolor": "#DFE8F3",
            "gridwidth": 2,
            "linecolor": "#EBF0F8",
            "showbackground": true,
            "ticks": "",
            "zerolinecolor": "#EBF0F8"
           },
           "zaxis": {
            "backgroundcolor": "white",
            "gridcolor": "#DFE8F3",
            "gridwidth": 2,
            "linecolor": "#EBF0F8",
            "showbackground": true,
            "ticks": "",
            "zerolinecolor": "#EBF0F8"
           }
          },
          "shapedefaults": {
           "line": {
            "color": "#2a3f5f"
           }
          },
          "ternary": {
           "aaxis": {
            "gridcolor": "#DFE8F3",
            "linecolor": "#A2B1C6",
            "ticks": ""
           },
           "baxis": {
            "gridcolor": "#DFE8F3",
            "linecolor": "#A2B1C6",
            "ticks": ""
           },
           "bgcolor": "white",
           "caxis": {
            "gridcolor": "#DFE8F3",
            "linecolor": "#A2B1C6",
            "ticks": ""
           }
          },
          "title": {
           "x": 0.05
          },
          "xaxis": {
           "automargin": true,
           "gridcolor": "#EBF0F8",
           "linecolor": "#EBF0F8",
           "ticks": "",
           "title": {
            "standoff": 15
           },
           "zerolinecolor": "#EBF0F8",
           "zerolinewidth": 2
          },
          "yaxis": {
           "automargin": true,
           "gridcolor": "#EBF0F8",
           "linecolor": "#EBF0F8",
           "ticks": "",
           "title": {
            "standoff": 15
           },
           "zerolinecolor": "#EBF0F8",
           "zerolinewidth": 2
          }
         }
        },
        "title": {
         "text": "Load Throughput (MB/s) Vs. Num Threads",
         "x": 0.5
        },
        "width": 1200,
        "xaxis": {
         "anchor": "y",
         "domain": [
          0,
          1
         ],
         "tickmode": "array",
         "tickvals": [
          1,
          2,
          3,
          4,
          5
         ],
         "title": {
          "text": "Number of Threads"
         }
        },
        "yaxis": {
         "anchor": "x",
         "domain": [
          0,
          1
         ],
         "range": [
          0,
          502.773364497789
         ],
         "title": {
          "text": "Throughput (MB/s)"
         }
        }
       }
      }
     },
     "metadata": {},
     "output_type": "display_data"
    }
   ],
   "source": [
    "load_df = pd.read_csv(\"load_summary_10.0keys_100B_comp-yes_csum-yes.csv\")\n",
    "plot_performance_by_workload_on_threads([load_df], [\"Loading from SSD\"], \"Load Throughput (MB/s) Vs. Num Threads\")"
   ]
  },
  {
   "cell_type": "code",
   "execution_count": null,
   "id": "371a0489",
   "metadata": {},
   "outputs": [],
   "source": []
  }
 ],
 "metadata": {
  "kernelspec": {
   "display_name": "venv",
   "language": "python",
   "name": "python3"
  },
  "language_info": {
   "codemirror_mode": {
    "name": "ipython",
    "version": 3
   },
   "file_extension": ".py",
   "mimetype": "text/x-python",
   "name": "python",
   "nbconvert_exporter": "python",
   "pygments_lexer": "ipython3",
   "version": "3.12.9"
  }
 },
 "nbformat": 4,
 "nbformat_minor": 5
}
